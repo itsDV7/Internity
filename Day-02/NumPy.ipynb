{
  "nbformat": 4,
  "nbformat_minor": 0,
  "metadata": {
    "colab": {
      "name": "NumPy.ipynb",
      "provenance": []
    },
    "kernelspec": {
      "name": "python3",
      "display_name": "Python 3"
    }
  },
  "cells": [
    {
      "cell_type": "code",
      "metadata": {
        "colab": {
          "base_uri": "https://localhost:8080/"
        },
        "id": "Z5P7LjRJBypf",
        "outputId": "a88b5f3f-906a-4a1e-8351-3555d8d81f62"
      },
      "source": [
        "pip install numpy # Install"
      ],
      "execution_count": 103,
      "outputs": [
        {
          "output_type": "stream",
          "text": [
            "Requirement already satisfied: numpy in /usr/local/lib/python3.6/dist-packages (1.19.4)\n"
          ],
          "name": "stdout"
        }
      ]
    },
    {
      "cell_type": "code",
      "metadata": {
        "id": "z7xPBIqPxYd-"
      },
      "source": [
        "import numpy as np # Import"
      ],
      "execution_count": 104,
      "outputs": []
    },
    {
      "cell_type": "code",
      "metadata": {
        "colab": {
          "base_uri": "https://localhost:8080/"
        },
        "id": "Cuj2O3PTxn-A",
        "outputId": "ccd1077c-f872-4c21-a0e7-a8e708dd6468"
      },
      "source": [
        "print(np.__version__) # Get Version\r\n",
        "print(np.show_config()) # Get Config - Libraries, directory and language in system on which NumPy was built."
      ],
      "execution_count": 105,
      "outputs": [
        {
          "output_type": "stream",
          "text": [
            "1.19.4\n",
            "blas_mkl_info:\n",
            "  NOT AVAILABLE\n",
            "blis_info:\n",
            "  NOT AVAILABLE\n",
            "openblas_info:\n",
            "    libraries = ['openblas', 'openblas']\n",
            "    library_dirs = ['/usr/local/lib']\n",
            "    language = c\n",
            "    define_macros = [('HAVE_CBLAS', None)]\n",
            "blas_opt_info:\n",
            "    libraries = ['openblas', 'openblas']\n",
            "    library_dirs = ['/usr/local/lib']\n",
            "    language = c\n",
            "    define_macros = [('HAVE_CBLAS', None)]\n",
            "lapack_mkl_info:\n",
            "  NOT AVAILABLE\n",
            "openblas_lapack_info:\n",
            "    libraries = ['openblas', 'openblas']\n",
            "    library_dirs = ['/usr/local/lib']\n",
            "    language = c\n",
            "    define_macros = [('HAVE_CBLAS', None)]\n",
            "lapack_opt_info:\n",
            "    libraries = ['openblas', 'openblas']\n",
            "    library_dirs = ['/usr/local/lib']\n",
            "    language = c\n",
            "    define_macros = [('HAVE_CBLAS', None)]\n",
            "None\n"
          ],
          "name": "stdout"
        }
      ]
    },
    {
      "cell_type": "code",
      "metadata": {
        "colab": {
          "base_uri": "https://localhost:8080/"
        },
        "id": "GZAuirUD0ogu",
        "outputId": "ca8cc5b7-b441-40f3-a745-1bb26ba97ae3"
      },
      "source": [
        "print(np.info(np.add)) # Similar to classic help() command"
      ],
      "execution_count": 106,
      "outputs": [
        {
          "output_type": "stream",
          "text": [
            "None\n"
          ],
          "name": "stdout"
        }
      ]
    },
    {
      "cell_type": "code",
      "metadata": {
        "colab": {
          "base_uri": "https://localhost:8080/"
        },
        "id": "9bT7WCzo08US",
        "outputId": "1fd5670b-113c-47ba-c9cb-64af3b932aef"
      },
      "source": [
        "# 1D Array\r\n",
        "print(np.array([1,2,3]))\r\n",
        "\r\n",
        "# 2D Array\r\n",
        "print(np.array([(1,2,3),(4,5,6)]))\r\n",
        "\r\n",
        "# Series/Range Array\r\n",
        "np.arange(1,20,2)"
      ],
      "execution_count": 107,
      "outputs": [
        {
          "output_type": "stream",
          "text": [
            "[1 2 3]\n",
            "[[1 2 3]\n",
            " [4 5 6]]\n"
          ],
          "name": "stdout"
        },
        {
          "output_type": "execute_result",
          "data": {
            "text/plain": [
              "array([ 1,  3,  5,  7,  9, 11, 13, 15, 17, 19])"
            ]
          },
          "metadata": {
            "tags": []
          },
          "execution_count": 107
        }
      ]
    },
    {
      "cell_type": "code",
      "metadata": {
        "colab": {
          "base_uri": "https://localhost:8080/"
        },
        "id": "a9WyTouu1dWm",
        "outputId": "a080f309-5888-4890-eafc-5855036e6b1d"
      },
      "source": [
        "print(np.linspace(0,2,9)) # Gives 9 equally spaced values between 0 and 2"
      ],
      "execution_count": 108,
      "outputs": [
        {
          "output_type": "stream",
          "text": [
            "[0.   0.25 0.5  0.75 1.   1.25 1.5  1.75 2.  ]\n"
          ],
          "name": "stdout"
        }
      ]
    },
    {
      "cell_type": "code",
      "metadata": {
        "colab": {
          "base_uri": "https://localhost:8080/"
        },
        "id": "AFQ6A4S3BSwg",
        "outputId": "578452f3-6a21-4e15-c010-2ed8c92282bd"
      },
      "source": [
        "# Array of Zeros\r\n",
        "print(np.zeros((1,2)))\r\n",
        "# Array of Ones\r\n",
        "print(np.ones((1,2)))"
      ],
      "execution_count": 109,
      "outputs": [
        {
          "output_type": "stream",
          "text": [
            "[[0. 0.]]\n",
            "[[1. 1.]]\n"
          ],
          "name": "stdout"
        }
      ]
    },
    {
      "cell_type": "code",
      "metadata": {
        "colab": {
          "base_uri": "https://localhost:8080/"
        },
        "id": "JqNXWiYCBlmv",
        "outputId": "668bf58e-cad1-4832-af4b-acb098d7cd45"
      },
      "source": [
        "# Random Array\r\n",
        "print(np.random.random((5,5))) # Return random float from 0 to 1. Can also use Randint or other functions instead.\r\n",
        "\r\n",
        "# Empty Array\r\n",
        "print(np.empty((2,2))) # Outputs arbitary uninitialized data"
      ],
      "execution_count": 110,
      "outputs": [
        {
          "output_type": "stream",
          "text": [
            "[[0.06514682 0.96725276 0.32319201 0.93013219 0.54126933]\n",
            " [0.49171604 0.74464638 0.01366618 0.35076422 0.41683827]\n",
            " [0.36924322 0.75896178 0.51948641 0.32198268 0.10155189]\n",
            " [0.10868055 0.28844802 0.46168197 0.03902628 0.54905865]\n",
            " [0.42871473 0.51348613 0.55416459 0.20151332 0.45782815]]\n",
            "[[1.         1.        ]\n",
            " [0.33333333 0.25      ]]\n"
          ],
          "name": "stdout"
        }
      ]
    },
    {
      "cell_type": "code",
      "metadata": {
        "colab": {
          "base_uri": "https://localhost:8080/"
        },
        "id": "QNpw1G--CnCm",
        "outputId": "2bdbca74-e372-4aa6-86ac-20c4f8d2b6cd"
      },
      "source": [
        "xyz_array = np.array([(1,2,3),(4,5,6)])\r\n",
        "xyz_array.shape # Get dimensions of any array"
      ],
      "execution_count": 111,
      "outputs": [
        {
          "output_type": "execute_result",
          "data": {
            "text/plain": [
              "(2, 3)"
            ]
          },
          "metadata": {
            "tags": []
          },
          "execution_count": 111
        }
      ]
    },
    {
      "cell_type": "code",
      "metadata": {
        "colab": {
          "base_uri": "https://localhost:8080/"
        },
        "id": "fsoy-HVwDETT",
        "outputId": "edc1f114-ea84-4afe-8762-254991be210a"
      },
      "source": [
        "len(xyz_array) # Length of an Array"
      ],
      "execution_count": 112,
      "outputs": [
        {
          "output_type": "execute_result",
          "data": {
            "text/plain": [
              "2"
            ]
          },
          "metadata": {
            "tags": []
          },
          "execution_count": 112
        }
      ]
    },
    {
      "cell_type": "code",
      "metadata": {
        "colab": {
          "base_uri": "https://localhost:8080/"
        },
        "id": "N7con5MaDPvf",
        "outputId": "06b60e46-fa60-4430-d34c-b8582401a777"
      },
      "source": [
        "xyz_array.ndim # Number of Dimensions --> This case 2D"
      ],
      "execution_count": 113,
      "outputs": [
        {
          "output_type": "execute_result",
          "data": {
            "text/plain": [
              "2"
            ]
          },
          "metadata": {
            "tags": []
          },
          "execution_count": 113
        }
      ]
    },
    {
      "cell_type": "code",
      "metadata": {
        "colab": {
          "base_uri": "https://localhost:8080/"
        },
        "id": "08COCsEbDbku",
        "outputId": "278bde21-59d1-4092-b4a4-0d9baa2cbc14"
      },
      "source": [
        "xyz_array.dtype # Data type of array"
      ],
      "execution_count": 114,
      "outputs": [
        {
          "output_type": "execute_result",
          "data": {
            "text/plain": [
              "dtype('int64')"
            ]
          },
          "metadata": {
            "tags": []
          },
          "execution_count": 114
        }
      ]
    },
    {
      "cell_type": "code",
      "metadata": {
        "colab": {
          "base_uri": "https://localhost:8080/"
        },
        "id": "i5YlGgJbDito",
        "outputId": "a349de35-326b-47f0-f052-f5b47d823034"
      },
      "source": [
        "# To convert a data type\r\n",
        "xyz_array.astype(float)"
      ],
      "execution_count": 115,
      "outputs": [
        {
          "output_type": "execute_result",
          "data": {
            "text/plain": [
              "array([[1., 2., 3.],\n",
              "       [4., 5., 6.]])"
            ]
          },
          "metadata": {
            "tags": []
          },
          "execution_count": 115
        }
      ]
    },
    {
      "cell_type": "code",
      "metadata": {
        "colab": {
          "base_uri": "https://localhost:8080/"
        },
        "id": "4JB7JYZKDthu",
        "outputId": "b2bc1cc4-a8b8-4df1-8b63-f5b2fb46322b"
      },
      "source": [
        "type(xyz_array) # Numpy Array = numpy.ndarray"
      ],
      "execution_count": 116,
      "outputs": [
        {
          "output_type": "execute_result",
          "data": {
            "text/plain": [
              "numpy.ndarray"
            ]
          },
          "metadata": {
            "tags": []
          },
          "execution_count": 116
        }
      ]
    },
    {
      "cell_type": "code",
      "metadata": {
        "colab": {
          "base_uri": "https://localhost:8080/"
        },
        "id": "t9JtyMA1D5NA",
        "outputId": "fb1a88a2-7fb4-48df-f421-9726ecec733c"
      },
      "source": [
        "copy_array = np.copy(xyz_array) # Will Return a np.array always\r\n",
        "print(copy_array)\r\n",
        "copy_array_hard = xyz_array.copy() # Will Return whatever type xyz_array is\r\n",
        "print(copy_array_hard)"
      ],
      "execution_count": 117,
      "outputs": [
        {
          "output_type": "stream",
          "text": [
            "[[1 2 3]\n",
            " [4 5 6]]\n",
            "[[1 2 3]\n",
            " [4 5 6]]\n"
          ],
          "name": "stdout"
        }
      ]
    },
    {
      "cell_type": "code",
      "metadata": {
        "colab": {
          "base_uri": "https://localhost:8080/"
        },
        "id": "IBSHi4ylEvPe",
        "outputId": "8599f4d5-f6b8-48bb-894b-3e93c6160213"
      },
      "source": [
        "rand_array = np.random.randint(0,10,(3,3)) # randint(low,high,size,dtype)\r\n",
        "print(rand_array)\r\n",
        "print(\"Sorted R:\")\r\n",
        "print(np.sort(rand_array)) # Sorts Each Row and not complete array/matrix\r\n",
        "print(\"Sorted C:\")\r\n",
        "print(np.sort(rand_array,axis=0)) # Sort for Column\r\n",
        "print(\"Sorted M:\")\r\n",
        "print(np.sort(rand_array,axis=1,kind='quicksort')) # Sort with default quicksort. Can use other sorting methods."
      ],
      "execution_count": 118,
      "outputs": [
        {
          "output_type": "stream",
          "text": [
            "[[6 6 2]\n",
            " [2 4 0]\n",
            " [5 2 4]]\n",
            "Sorted R:\n",
            "[[2 6 6]\n",
            " [0 2 4]\n",
            " [2 4 5]]\n",
            "Sorted C:\n",
            "[[2 2 0]\n",
            " [5 4 2]\n",
            " [6 6 4]]\n",
            "Sorted M:\n",
            "[[2 6 6]\n",
            " [0 2 4]\n",
            " [2 4 5]]\n"
          ],
          "name": "stdout"
        }
      ]
    },
    {
      "cell_type": "code",
      "metadata": {
        "id": "jOniO72yHkBS",
        "colab": {
          "base_uri": "https://localhost:8080/"
        },
        "outputId": "24a14600-4bff-4e83-b833-f064e0055826"
      },
      "source": [
        "np.append(xyz_array,copy_array) # Array is flattened if axis not given"
      ],
      "execution_count": 119,
      "outputs": [
        {
          "output_type": "execute_result",
          "data": {
            "text/plain": [
              "array([1, 2, 3, 4, 5, 6, 1, 2, 3, 4, 5, 6])"
            ]
          },
          "metadata": {
            "tags": []
          },
          "execution_count": 119
        }
      ]
    },
    {
      "cell_type": "code",
      "metadata": {
        "colab": {
          "base_uri": "https://localhost:8080/"
        },
        "id": "1GAASiKiq8pp",
        "outputId": "f9c094e2-7c51-4b64-e6bd-ca994b5bcdca"
      },
      "source": [
        "np.append(xyz_array,copy_array,axis=0) # Joined column wise - values must have correct shape"
      ],
      "execution_count": 120,
      "outputs": [
        {
          "output_type": "execute_result",
          "data": {
            "text/plain": [
              "array([[1, 2, 3],\n",
              "       [4, 5, 6],\n",
              "       [1, 2, 3],\n",
              "       [4, 5, 6]])"
            ]
          },
          "metadata": {
            "tags": []
          },
          "execution_count": 120
        }
      ]
    },
    {
      "cell_type": "code",
      "metadata": {
        "colab": {
          "base_uri": "https://localhost:8080/"
        },
        "id": "kNbsVy7frFdY",
        "outputId": "2c9ff8d7-15b8-49bd-a673-cf29b5c6ebc5"
      },
      "source": [
        "np.insert(xyz_array,2,[7,8,9],axis=0) # Inserts values at index 2"
      ],
      "execution_count": 121,
      "outputs": [
        {
          "output_type": "execute_result",
          "data": {
            "text/plain": [
              "array([[1, 2, 3],\n",
              "       [4, 5, 6],\n",
              "       [7, 8, 9]])"
            ]
          },
          "metadata": {
            "tags": []
          },
          "execution_count": 121
        }
      ]
    },
    {
      "cell_type": "code",
      "metadata": {
        "colab": {
          "base_uri": "https://localhost:8080/"
        },
        "id": "7ypgY-73wwJr",
        "outputId": "a9284e41-8269-4229-f11f-5424b246a0f5"
      },
      "source": [
        "np.resize(xyz_array,(3,2))"
      ],
      "execution_count": 122,
      "outputs": [
        {
          "output_type": "execute_result",
          "data": {
            "text/plain": [
              "array([[1, 2],\n",
              "       [3, 4],\n",
              "       [5, 6]])"
            ]
          },
          "metadata": {
            "tags": []
          },
          "execution_count": 122
        }
      ]
    },
    {
      "cell_type": "code",
      "metadata": {
        "colab": {
          "base_uri": "https://localhost:8080/"
        },
        "id": "cgZ5ROrQxVMj",
        "outputId": "2c7b5bc4-1d71-4d8f-a454-2d7324a72ba5"
      },
      "source": [
        "np.resize(xyz_array,(5,3)) # Can recycle elements"
      ],
      "execution_count": 123,
      "outputs": [
        {
          "output_type": "execute_result",
          "data": {
            "text/plain": [
              "array([[1, 2, 3],\n",
              "       [4, 5, 6],\n",
              "       [1, 2, 3],\n",
              "       [4, 5, 6],\n",
              "       [1, 2, 3]])"
            ]
          },
          "metadata": {
            "tags": []
          },
          "execution_count": 123
        }
      ]
    },
    {
      "cell_type": "code",
      "metadata": {
        "colab": {
          "base_uri": "https://localhost:8080/"
        },
        "id": "neBnxw8kxiU5",
        "outputId": "0c7a3d51-a91a-416e-9206-cce546abb79d"
      },
      "source": [
        "# Row Delete\r\n",
        "print(np.delete(xyz_array,1,axis=0))\r\n",
        "\r\n",
        "# Column Delete\r\n",
        "print(np.delete(xyz_array,[2],axis=1))"
      ],
      "execution_count": 124,
      "outputs": [
        {
          "output_type": "stream",
          "text": [
            "[[1 2 3]]\n",
            "[[1 2]\n",
            " [4 5]]\n"
          ],
          "name": "stdout"
        }
      ]
    },
    {
      "cell_type": "code",
      "metadata": {
        "colab": {
          "base_uri": "https://localhost:8080/"
        },
        "id": "aRZpqHUFzF_h",
        "outputId": "169dd8a6-42b6-47d6-cdb3-5396963741e4"
      },
      "source": [
        "np.concatenate((xyz_array,copy_array),axis=0) # np.append() uses np.concatenate()"
      ],
      "execution_count": 125,
      "outputs": [
        {
          "output_type": "execute_result",
          "data": {
            "text/plain": [
              "array([[1, 2, 3],\n",
              "       [4, 5, 6],\n",
              "       [1, 2, 3],\n",
              "       [4, 5, 6]])"
            ]
          },
          "metadata": {
            "tags": []
          },
          "execution_count": 125
        }
      ]
    },
    {
      "cell_type": "code",
      "metadata": {
        "colab": {
          "base_uri": "https://localhost:8080/"
        },
        "id": "sQ7kVOsoNYCI",
        "outputId": "67b49cdb-b770-459f-9f9b-1ce3c02dce6f"
      },
      "source": [
        "np.concatenate((xyz_array,copy_array),axis=1) # concatenate is faster"
      ],
      "execution_count": 126,
      "outputs": [
        {
          "output_type": "execute_result",
          "data": {
            "text/plain": [
              "array([[1, 2, 3, 1, 2, 3],\n",
              "       [4, 5, 6, 4, 5, 6]])"
            ]
          },
          "metadata": {
            "tags": []
          },
          "execution_count": 126
        }
      ]
    },
    {
      "cell_type": "code",
      "metadata": {
        "colab": {
          "base_uri": "https://localhost:8080/"
        },
        "id": "35W0vVIMNYYU",
        "outputId": "c0fe009f-aefb-48cf-afcb-b1ca8620aa6c"
      },
      "source": [
        "np.vstack((xyz_array,copy_array)) # Vertical Stack"
      ],
      "execution_count": 127,
      "outputs": [
        {
          "output_type": "execute_result",
          "data": {
            "text/plain": [
              "array([[1, 2, 3],\n",
              "       [4, 5, 6],\n",
              "       [1, 2, 3],\n",
              "       [4, 5, 6]])"
            ]
          },
          "metadata": {
            "tags": []
          },
          "execution_count": 127
        }
      ]
    },
    {
      "cell_type": "code",
      "metadata": {
        "colab": {
          "base_uri": "https://localhost:8080/"
        },
        "id": "xEH2PdZdOHZw",
        "outputId": "6befe05a-7147-4750-f178-b2174a7be98c"
      },
      "source": [
        "np.hstack((xyz_array,copy_array)) # Horizontal Stack"
      ],
      "execution_count": 128,
      "outputs": [
        {
          "output_type": "execute_result",
          "data": {
            "text/plain": [
              "array([[1, 2, 3, 1, 2, 3],\n",
              "       [4, 5, 6, 4, 5, 6]])"
            ]
          },
          "metadata": {
            "tags": []
          },
          "execution_count": 128
        }
      ]
    },
    {
      "cell_type": "code",
      "metadata": {
        "colab": {
          "base_uri": "https://localhost:8080/"
        },
        "id": "OO1bcGwdOLIX",
        "outputId": "87fb8d4a-21b6-4580-e4c6-4dd041ae4aa7"
      },
      "source": [
        "np.split(xyz_array,2) # Divite array equally"
      ],
      "execution_count": 129,
      "outputs": [
        {
          "output_type": "execute_result",
          "data": {
            "text/plain": [
              "[array([[1, 2, 3]]), array([[4, 5, 6]])]"
            ]
          },
          "metadata": {
            "tags": []
          },
          "execution_count": 129
        }
      ]
    },
    {
      "cell_type": "code",
      "metadata": {
        "colab": {
          "base_uri": "https://localhost:8080/"
        },
        "id": "n7Mbav0xPAnQ",
        "outputId": "8ffcdc40-9bf5-4695-9192-3eafb2ca3bc2"
      },
      "source": [
        "np.array_split(xyz_array,4) # Might not divide array equally"
      ],
      "execution_count": 130,
      "outputs": [
        {
          "output_type": "execute_result",
          "data": {
            "text/plain": [
              "[array([[1, 2, 3]]),\n",
              " array([[4, 5, 6]]),\n",
              " array([], shape=(0, 3), dtype=int64),\n",
              " array([], shape=(0, 3), dtype=int64)]"
            ]
          },
          "metadata": {
            "tags": []
          },
          "execution_count": 130
        }
      ]
    },
    {
      "cell_type": "code",
      "metadata": {
        "colab": {
          "base_uri": "https://localhost:8080/"
        },
        "id": "QOwIbqUxQ2ht",
        "outputId": "0c979da8-a8c7-4b4f-9045-e37f80fd8d51"
      },
      "source": [
        "np.hsplit(xyz_array, 3) # Splits horizontally"
      ],
      "execution_count": 131,
      "outputs": [
        {
          "output_type": "execute_result",
          "data": {
            "text/plain": [
              "[array([[1],\n",
              "        [4]]), array([[2],\n",
              "        [5]]), array([[3],\n",
              "        [6]])]"
            ]
          },
          "metadata": {
            "tags": []
          },
          "execution_count": 131
        }
      ]
    },
    {
      "cell_type": "code",
      "metadata": {
        "colab": {
          "base_uri": "https://localhost:8080/"
        },
        "id": "WhwJASCLSA7B",
        "outputId": "f1b06240-d7d2-4b42-f1ec-21d9052b819b"
      },
      "source": [
        "xyz_array.flatten() # C-Row F-Column A-Column is array is Fortran otherwise row K-In order of memory allocation"
      ],
      "execution_count": 132,
      "outputs": [
        {
          "output_type": "execute_result",
          "data": {
            "text/plain": [
              "array([1, 2, 3, 4, 5, 6])"
            ]
          },
          "metadata": {
            "tags": []
          },
          "execution_count": 132
        }
      ]
    },
    {
      "cell_type": "code",
      "metadata": {
        "colab": {
          "base_uri": "https://localhost:8080/"
        },
        "id": "Myj79uAjUcw_",
        "outputId": "562c747b-6df6-4d13-d091-92b6457b9ea5"
      },
      "source": [
        "np.transpose(xyz_array)\r\n",
        "# or\r\n",
        "xyz_array.T"
      ],
      "execution_count": 133,
      "outputs": [
        {
          "output_type": "execute_result",
          "data": {
            "text/plain": [
              "array([[1, 4],\n",
              "       [2, 5],\n",
              "       [3, 6]])"
            ]
          },
          "metadata": {
            "tags": []
          },
          "execution_count": 133
        }
      ]
    },
    {
      "cell_type": "code",
      "metadata": {
        "colab": {
          "base_uri": "https://localhost:8080/"
        },
        "id": "0ahyONrjU6B2",
        "outputId": "3eef4694-93d2-4456-d178-a59c63cfe593"
      },
      "source": [
        "np.linalg.inv(np.array([[2,3],[2,2]])) # linear algebra - inverse / LinAlgError if inversion fails"
      ],
      "execution_count": 134,
      "outputs": [
        {
          "output_type": "execute_result",
          "data": {
            "text/plain": [
              "array([[-1. ,  1.5],\n",
              "       [ 1. , -1. ]])"
            ]
          },
          "metadata": {
            "tags": []
          },
          "execution_count": 134
        }
      ]
    },
    {
      "cell_type": "code",
      "metadata": {
        "colab": {
          "base_uri": "https://localhost:8080/"
        },
        "id": "gDjPyd-eU7lJ",
        "outputId": "edd55729-b45f-4e8e-ff6d-4f54e5b00c1d"
      },
      "source": [
        "np.add(xyz_array,10)"
      ],
      "execution_count": 135,
      "outputs": [
        {
          "output_type": "execute_result",
          "data": {
            "text/plain": [
              "array([[11, 12, 13],\n",
              "       [14, 15, 16]])"
            ]
          },
          "metadata": {
            "tags": []
          },
          "execution_count": 135
        }
      ]
    },
    {
      "cell_type": "code",
      "metadata": {
        "colab": {
          "base_uri": "https://localhost:8080/"
        },
        "id": "fcWasx3kXNQk",
        "outputId": "43eab4f0-4ef0-4679-ad4b-08672a9da664"
      },
      "source": [
        "np.subtract(xyz_array, 11)"
      ],
      "execution_count": 136,
      "outputs": [
        {
          "output_type": "execute_result",
          "data": {
            "text/plain": [
              "array([[-10,  -9,  -8],\n",
              "       [ -7,  -6,  -5]])"
            ]
          },
          "metadata": {
            "tags": []
          },
          "execution_count": 136
        }
      ]
    },
    {
      "cell_type": "code",
      "metadata": {
        "colab": {
          "base_uri": "https://localhost:8080/"
        },
        "id": "ng9N_HMxXRPR",
        "outputId": "25ddcc4c-1bff-4531-9bfb-0fd1aa91197c"
      },
      "source": [
        "np.divide(xyz_array, 2)"
      ],
      "execution_count": 137,
      "outputs": [
        {
          "output_type": "execute_result",
          "data": {
            "text/plain": [
              "array([[0.5, 1. , 1.5],\n",
              "       [2. , 2.5, 3. ]])"
            ]
          },
          "metadata": {
            "tags": []
          },
          "execution_count": 137
        }
      ]
    },
    {
      "cell_type": "code",
      "metadata": {
        "colab": {
          "base_uri": "https://localhost:8080/"
        },
        "id": "uI4VrHVOXX0O",
        "outputId": "199fcb5d-946c-4a07-8943-8e978d6ce115"
      },
      "source": [
        "np.multiply(xyz_array, 3)"
      ],
      "execution_count": 138,
      "outputs": [
        {
          "output_type": "execute_result",
          "data": {
            "text/plain": [
              "array([[ 3,  6,  9],\n",
              "       [12, 15, 18]])"
            ]
          },
          "metadata": {
            "tags": []
          },
          "execution_count": 138
        }
      ]
    },
    {
      "cell_type": "code",
      "metadata": {
        "colab": {
          "base_uri": "https://localhost:8080/"
        },
        "id": "LlbWglYWXeQ6",
        "outputId": "97275cde-bcf7-4d8a-afb3-809f578db4a7"
      },
      "source": [
        "np.sqrt(xyz_array)"
      ],
      "execution_count": 139,
      "outputs": [
        {
          "output_type": "execute_result",
          "data": {
            "text/plain": [
              "array([[1.        , 1.41421356, 1.73205081],\n",
              "       [2.        , 2.23606798, 2.44948974]])"
            ]
          },
          "metadata": {
            "tags": []
          },
          "execution_count": 139
        }
      ]
    },
    {
      "cell_type": "code",
      "metadata": {
        "colab": {
          "base_uri": "https://localhost:8080/"
        },
        "id": "ajnbhKMaXlBg",
        "outputId": "895fe912-101a-4877-d50d-823ecca7d7dd"
      },
      "source": [
        "# np.sin(), np.cos(), np.log(), np.dot(x,y) - few more examples\r\n",
        "np.roots([-12,-7,11,7,1])"
      ],
      "execution_count": 140,
      "outputs": [
        {
          "output_type": "execute_result",
          "data": {
            "text/plain": [
              "array([ 1.        , -1.        , -0.33333333, -0.25      ])"
            ]
          },
          "metadata": {
            "tags": []
          },
          "execution_count": 140
        }
      ]
    },
    {
      "cell_type": "code",
      "metadata": {
        "colab": {
          "base_uri": "https://localhost:8080/"
        },
        "id": "5KrrWiYaaEHu",
        "outputId": "b79f0c62-6bd8-48c7-a63b-034eb0595d16"
      },
      "source": [
        "np.mean(xyz_array)"
      ],
      "execution_count": 141,
      "outputs": [
        {
          "output_type": "execute_result",
          "data": {
            "text/plain": [
              "3.5"
            ]
          },
          "metadata": {
            "tags": []
          },
          "execution_count": 141
        }
      ]
    },
    {
      "cell_type": "code",
      "metadata": {
        "colab": {
          "base_uri": "https://localhost:8080/"
        },
        "id": "HGocJMPVaLCy",
        "outputId": "15c7994d-162f-4b4d-fe8b-2cc5d80b841b"
      },
      "source": [
        "np.median(xyz_array)"
      ],
      "execution_count": 142,
      "outputs": [
        {
          "output_type": "execute_result",
          "data": {
            "text/plain": [
              "3.5"
            ]
          },
          "metadata": {
            "tags": []
          },
          "execution_count": 142
        }
      ]
    },
    {
      "cell_type": "code",
      "metadata": {
        "colab": {
          "base_uri": "https://localhost:8080/"
        },
        "id": "FA1UPROxaNEy",
        "outputId": "88ff761b-390a-4958-b9d2-50ec3223ec99"
      },
      "source": [
        "np.std(xyz_array)"
      ],
      "execution_count": 143,
      "outputs": [
        {
          "output_type": "execute_result",
          "data": {
            "text/plain": [
              "1.707825127659933"
            ]
          },
          "metadata": {
            "tags": []
          },
          "execution_count": 143
        }
      ]
    },
    {
      "cell_type": "code",
      "metadata": {
        "colab": {
          "base_uri": "https://localhost:8080/"
        },
        "id": "oaNCt1K3aRrm",
        "outputId": "c744d5d0-a955-4264-e78a-9de98116a7aa"
      },
      "source": [
        "xyz_array.sum()"
      ],
      "execution_count": 144,
      "outputs": [
        {
          "output_type": "execute_result",
          "data": {
            "text/plain": [
              "21"
            ]
          },
          "metadata": {
            "tags": []
          },
          "execution_count": 144
        }
      ]
    },
    {
      "cell_type": "code",
      "metadata": {
        "colab": {
          "base_uri": "https://localhost:8080/"
        },
        "id": "Oc6OKoCXalF_",
        "outputId": "a7e98626-f792-46cc-f428-4c0db10ef6c5"
      },
      "source": [
        "xyz_array.min()"
      ],
      "execution_count": 145,
      "outputs": [
        {
          "output_type": "execute_result",
          "data": {
            "text/plain": [
              "1"
            ]
          },
          "metadata": {
            "tags": []
          },
          "execution_count": 145
        }
      ]
    },
    {
      "cell_type": "code",
      "metadata": {
        "colab": {
          "base_uri": "https://localhost:8080/"
        },
        "id": "swY4pGmSan6V",
        "outputId": "1835a1e8-a66b-421f-fba0-17a8d37d7aa5"
      },
      "source": [
        "xyz_array.max()"
      ],
      "execution_count": 146,
      "outputs": [
        {
          "output_type": "execute_result",
          "data": {
            "text/plain": [
              "6"
            ]
          },
          "metadata": {
            "tags": []
          },
          "execution_count": 146
        }
      ]
    },
    {
      "cell_type": "code",
      "metadata": {
        "colab": {
          "base_uri": "https://localhost:8080/"
        },
        "id": "qhtthlg-arMt",
        "outputId": "0bbe4c7b-0303-47ae-a415-b36b8906ff42"
      },
      "source": [
        "xyz_array.max(axis=1)"
      ],
      "execution_count": 147,
      "outputs": [
        {
          "output_type": "execute_result",
          "data": {
            "text/plain": [
              "array([3, 6])"
            ]
          },
          "metadata": {
            "tags": []
          },
          "execution_count": 147
        }
      ]
    },
    {
      "cell_type": "code",
      "metadata": {
        "colab": {
          "base_uri": "https://localhost:8080/"
        },
        "id": "SxLhZ_JJazP0",
        "outputId": "c753abc7-72b2-4da0-a57f-01ffb67fa97f"
      },
      "source": [
        "xyz_array.cumsum()"
      ],
      "execution_count": 148,
      "outputs": [
        {
          "output_type": "execute_result",
          "data": {
            "text/plain": [
              "array([ 1,  3,  6, 10, 15, 21])"
            ]
          },
          "metadata": {
            "tags": []
          },
          "execution_count": 148
        }
      ]
    },
    {
      "cell_type": "code",
      "metadata": {
        "colab": {
          "base_uri": "https://localhost:8080/"
        },
        "id": "OFnXtaFxa2UE",
        "outputId": "0636f99c-dc0c-461e-b54e-3d18ac4c9aac"
      },
      "source": [
        "xyz_array.cumsum(axis=1)"
      ],
      "execution_count": 149,
      "outputs": [
        {
          "output_type": "execute_result",
          "data": {
            "text/plain": [
              "array([[ 1,  3,  6],\n",
              "       [ 4,  9, 15]])"
            ]
          },
          "metadata": {
            "tags": []
          },
          "execution_count": 149
        }
      ]
    },
    {
      "cell_type": "code",
      "metadata": {
        "id": "uL_Hl3SsbWdm"
      },
      "source": [
        ""
      ],
      "execution_count": null,
      "outputs": []
    }
  ]
}
