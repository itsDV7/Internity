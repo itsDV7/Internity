{
  "nbformat": 4,
  "nbformat_minor": 0,
  "metadata": {
    "colab": {
      "name": "DescriptiveStatistics.ipynb",
      "provenance": []
    },
    "kernelspec": {
      "name": "python3",
      "display_name": "Python 3"
    }
  },
  "cells": [
    {
      "cell_type": "code",
      "metadata": {
        "colab": {
          "base_uri": "https://localhost:8080/"
        },
        "id": "UJhqmwaA9vtK",
        "outputId": "061982be-2d8f-483f-ca02-faff41a0abd4"
      },
      "source": [
        "import statistics\r\n",
        "data = [1,2,3,4,5]\r\n",
        "statistics.mean(data)"
      ],
      "execution_count": 1,
      "outputs": [
        {
          "output_type": "execute_result",
          "data": {
            "text/plain": [
              "3"
            ]
          },
          "metadata": {
            "tags": []
          },
          "execution_count": 1
        }
      ]
    },
    {
      "cell_type": "code",
      "metadata": {
        "colab": {
          "base_uri": "https://localhost:8080/"
        },
        "id": "mmX443r1Ky7k",
        "outputId": "f52e82be-dd9b-4b29-e26b-c84eb3ca2016"
      },
      "source": [
        "data = [1,2,3,4,5]\r\n",
        "statistics.median(data)"
      ],
      "execution_count": 2,
      "outputs": [
        {
          "output_type": "execute_result",
          "data": {
            "text/plain": [
              "3"
            ]
          },
          "metadata": {
            "tags": []
          },
          "execution_count": 2
        }
      ]
    },
    {
      "cell_type": "code",
      "metadata": {
        "colab": {
          "base_uri": "https://localhost:8080/"
        },
        "id": "yeX0DZf_K1VM",
        "outputId": "f497b4a4-09d1-4d9e-c102-03268d542715"
      },
      "source": [
        "data = [1,2,3,4,5,2,2,2,3,5]\r\n",
        "statistics.mode(data)"
      ],
      "execution_count": 3,
      "outputs": [
        {
          "output_type": "execute_result",
          "data": {
            "text/plain": [
              "2"
            ]
          },
          "metadata": {
            "tags": []
          },
          "execution_count": 3
        }
      ]
    },
    {
      "cell_type": "code",
      "metadata": {
        "colab": {
          "base_uri": "https://localhost:8080/"
        },
        "id": "grIXkzYRK1f_",
        "outputId": "5b9ccf3e-4ee1-4ef1-cbb0-a64b00246d42"
      },
      "source": [
        "data = [1,2,3,4,5]\r\n",
        "# Range\r\n",
        "max(data) - min(data)"
      ],
      "execution_count": 4,
      "outputs": [
        {
          "output_type": "execute_result",
          "data": {
            "text/plain": [
              "4"
            ]
          },
          "metadata": {
            "tags": []
          },
          "execution_count": 4
        }
      ]
    },
    {
      "cell_type": "code",
      "metadata": {
        "colab": {
          "base_uri": "https://localhost:8080/"
        },
        "id": "KAZdyk4bK5Gv",
        "outputId": "abb28eee-c617-4f71-e24e-ca890dec2573"
      },
      "source": [
        "from scipy import stats\r\n",
        "data = [32, 36, 46, 47, 56, 69, 75, 79, 79, 88, 89, 91, 92, 93, 96, 97, 101, 105, 112, 116]\r\n",
        "#IQR\r\n",
        "stats.iqr(data,interpolation = 'midpoint')"
      ],
      "execution_count": 5,
      "outputs": [
        {
          "output_type": "execute_result",
          "data": {
            "text/plain": [
              "34.0"
            ]
          },
          "metadata": {
            "tags": []
          },
          "execution_count": 5
        }
      ]
    },
    {
      "cell_type": "code",
      "metadata": {
        "colab": {
          "base_uri": "https://localhost:8080/"
        },
        "id": "QiyAhn2_K69w",
        "outputId": "05c51338-18fd-4947-c626-7ab4b3bd21b2"
      },
      "source": [
        "data = [32, 36, 46, 47, 56, 69, 75, 79, 79, 88, 89, 91, 92, 93, 96, 97, 101, 105, 112, 116]\r\n",
        "statistics.variance(data)"
      ],
      "execution_count": 6,
      "outputs": [
        {
          "output_type": "execute_result",
          "data": {
            "text/plain": [
              "616.7868421052632"
            ]
          },
          "metadata": {
            "tags": []
          },
          "execution_count": 6
        }
      ]
    },
    {
      "cell_type": "code",
      "metadata": {
        "colab": {
          "base_uri": "https://localhost:8080/"
        },
        "id": "LRCzq4FyL1RR",
        "outputId": "fef781b4-b866-4c10-a114-a8e3bbbd1ff2"
      },
      "source": [
        "data = [32, 36, 46, 47, 56, 69, 75, 79, 79, 88, 89, 91, 92, 93, 96, 97, 101, 105, 112, 116]\r\n",
        "statistics.stdev(data)"
      ],
      "execution_count": 7,
      "outputs": [
        {
          "output_type": "execute_result",
          "data": {
            "text/plain": [
              "24.835193619242496"
            ]
          },
          "metadata": {
            "tags": []
          },
          "execution_count": 7
        }
      ]
    },
    {
      "cell_type": "code",
      "metadata": {
        "colab": {
          "base_uri": "https://localhost:8080/"
        },
        "id": "0kNoM3kuMwdk",
        "outputId": "9343eeb5-5df9-489a-9cd4-5d5e58eb5a97"
      },
      "source": [
        "import math\r\n",
        "\r\n",
        "math.sqrt(statistics.variance(data))"
      ],
      "execution_count": 8,
      "outputs": [
        {
          "output_type": "execute_result",
          "data": {
            "text/plain": [
              "24.835193619242496"
            ]
          },
          "metadata": {
            "tags": []
          },
          "execution_count": 8
        }
      ]
    }
  ]
}