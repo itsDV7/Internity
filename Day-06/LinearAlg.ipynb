{
  "nbformat": 4,
  "nbformat_minor": 0,
  "metadata": {
    "colab": {
      "name": "LinearAlg.ipynb",
      "provenance": []
    },
    "kernelspec": {
      "name": "python3",
      "display_name": "Python 3"
    }
  },
  "cells": [
    {
      "cell_type": "code",
      "metadata": {
        "colab": {
          "base_uri": "https://localhost:8080/"
        },
        "id": "EfS2UowMWT4e",
        "outputId": "732dd9b0-7a66-44a4-9f1a-828c20a14133"
      },
      "source": [
        "20000 + 1500"
      ],
      "execution_count": 1,
      "outputs": [
        {
          "output_type": "execute_result",
          "data": {
            "text/plain": [
              "21500"
            ]
          },
          "metadata": {
            "tags": []
          },
          "execution_count": 1
        }
      ]
    },
    {
      "cell_type": "code",
      "metadata": {
        "colab": {
          "base_uri": "https://localhost:8080/"
        },
        "id": "NqrXVirZXMpk",
        "outputId": "13d82644-6a18-4edb-a8dd-2a528b9f365f"
      },
      "source": [
        "20000 - 1500"
      ],
      "execution_count": 2,
      "outputs": [
        {
          "output_type": "execute_result",
          "data": {
            "text/plain": [
              "18500"
            ]
          },
          "metadata": {
            "tags": []
          },
          "execution_count": 2
        }
      ]
    },
    {
      "cell_type": "code",
      "metadata": {
        "colab": {
          "base_uri": "https://localhost:8080/"
        },
        "id": "RHxOJ67UXOiu",
        "outputId": "bc66d0aa-920c-4d19-c316-e622c731bab8"
      },
      "source": [
        "20000 * 1500"
      ],
      "execution_count": 3,
      "outputs": [
        {
          "output_type": "execute_result",
          "data": {
            "text/plain": [
              "30000000"
            ]
          },
          "metadata": {
            "tags": []
          },
          "execution_count": 3
        }
      ]
    },
    {
      "cell_type": "code",
      "metadata": {
        "colab": {
          "base_uri": "https://localhost:8080/"
        },
        "id": "HI35m9nuXQul",
        "outputId": "8e2f4bad-05d7-4b83-ee46-c853f6e5bc45"
      },
      "source": [
        "20000 / 1500"
      ],
      "execution_count": 4,
      "outputs": [
        {
          "output_type": "execute_result",
          "data": {
            "text/plain": [
              "13.333333333333334"
            ]
          },
          "metadata": {
            "tags": []
          },
          "execution_count": 4
        }
      ]
    },
    {
      "cell_type": "code",
      "metadata": {
        "id": "CXVCuhkrXSsu"
      },
      "source": [
        "import numpy as np"
      ],
      "execution_count": 5,
      "outputs": []
    },
    {
      "cell_type": "code",
      "metadata": {
        "id": "qj0PsleVgQLs"
      },
      "source": [
        "A = np.array([1,2,3])\r\n",
        "B = np.array([4,5,6])\r\n",
        "A2 = np.array([[1,2],[3,4]])\r\n",
        "B2 = np.array([[5,6],[7,8]])"
      ],
      "execution_count": 6,
      "outputs": []
    },
    {
      "cell_type": "code",
      "metadata": {
        "colab": {
          "base_uri": "https://localhost:8080/"
        },
        "id": "bWYk0EYFhGI7",
        "outputId": "40cc9232-b16b-4ed2-bb42-0eefae6a0a1d"
      },
      "source": [
        "# Both A and B are 1D Array\r\n",
        "print(np.dot(A,B))\r\n",
        "print(np.vdot(A,B))"
      ],
      "execution_count": 7,
      "outputs": [
        {
          "output_type": "stream",
          "text": [
            "32\n",
            "32\n"
          ],
          "name": "stdout"
        }
      ]
    },
    {
      "cell_type": "code",
      "metadata": {
        "colab": {
          "base_uri": "https://localhost:8080/"
        },
        "id": "gwMkzxrthOD6",
        "outputId": "0fca54b4-5a39-4bfb-b6f3-ca6bd36280dc"
      },
      "source": [
        "# Both A2 and B2 are 2D Array\r\n",
        "print(np.dot(A2,B2))\r\n",
        "\r\n",
        "# Preferred Functions for 2D Dot Product:\r\n",
        "print(np.matmul(A2,B2))\r\n",
        "print(A2 @ B2)"
      ],
      "execution_count": 8,
      "outputs": [
        {
          "output_type": "stream",
          "text": [
            "[[19 22]\n",
            " [43 50]]\n",
            "[[19 22]\n",
            " [43 50]]\n",
            "[[19 22]\n",
            " [43 50]]\n"
          ],
          "name": "stdout"
        }
      ]
    },
    {
      "cell_type": "code",
      "metadata": {
        "colab": {
          "base_uri": "https://localhost:8080/"
        },
        "id": "N_R7gr3QhY0H",
        "outputId": "a2eb759b-1354-4780-8768-857011cb8113"
      },
      "source": [
        "# Either A or B is scaler\r\n",
        "print(np.dot(A,2))\r\n",
        "\r\n",
        "# Preferred Function:\r\n",
        "print(np.multiply(A,2))\r\n",
        "print(A*2)"
      ],
      "execution_count": 9,
      "outputs": [
        {
          "output_type": "stream",
          "text": [
            "[2 4 6]\n",
            "[2 4 6]\n",
            "[2 4 6]\n"
          ],
          "name": "stdout"
        }
      ]
    },
    {
      "cell_type": "code",
      "metadata": {
        "colab": {
          "base_uri": "https://localhost:8080/"
        },
        "id": "0eM-9Ox-h6oN",
        "outputId": "a3b979cc-e897-40cd-ac16-64cf43f71423"
      },
      "source": [
        "# Vector Multiplication / Cross Product\r\n",
        "print(np.cross(A,B))\r\n",
        "print(np.cross(A2,B2))"
      ],
      "execution_count": 10,
      "outputs": [
        {
          "output_type": "stream",
          "text": [
            "[-3  6 -3]\n",
            "[-4 -4]\n"
          ],
          "name": "stdout"
        }
      ]
    },
    {
      "cell_type": "code",
      "metadata": {
        "id": "uTxg7SceIvk0"
      },
      "source": [
        "# Matrix\r\n",
        "Mat1 = np.matrix('1 2 3; 4 5 6')\r\n",
        "Mat2 = np.matrix('7 8 9; 10 11 12')\r\n",
        "Mat3 = np.matrix('7 8; 9 10; 11 12')"
      ],
      "execution_count": 11,
      "outputs": []
    },
    {
      "cell_type": "code",
      "metadata": {
        "colab": {
          "base_uri": "https://localhost:8080/"
        },
        "id": "gB8pP1UXPebe",
        "outputId": "bd71171a-3f28-4aee-91d7-b04e2d841d95"
      },
      "source": [
        "# Dimensions\r\n",
        "print(np.shape(Mat1))\r\n",
        "print(np.shape(Mat2))\r\n",
        "print(np.shape(Mat3))"
      ],
      "execution_count": 14,
      "outputs": [
        {
          "output_type": "stream",
          "text": [
            "(2, 3)\n",
            "(2, 3)\n",
            "(3, 2)\n"
          ],
          "name": "stdout"
        }
      ]
    },
    {
      "cell_type": "code",
      "metadata": {
        "colab": {
          "base_uri": "https://localhost:8080/",
          "height": 163
        },
        "id": "3DJgzepqP01m",
        "outputId": "d0dc7fef-7af3-4ca4-8cbc-d73c3abaa2d3"
      },
      "source": [
        "np.matmul(Mat1,Mat2)"
      ],
      "execution_count": 15,
      "outputs": [
        {
          "output_type": "error",
          "ename": "ValueError",
          "evalue": "ignored",
          "traceback": [
            "\u001b[0;31m---------------------------------------------------------------------------\u001b[0m",
            "\u001b[0;31mValueError\u001b[0m                                Traceback (most recent call last)",
            "\u001b[0;32m<ipython-input-15-95949b4dad0d>\u001b[0m in \u001b[0;36m<module>\u001b[0;34m()\u001b[0m\n\u001b[0;32m----> 1\u001b[0;31m \u001b[0mnp\u001b[0m\u001b[0;34m.\u001b[0m\u001b[0mmatmul\u001b[0m\u001b[0;34m(\u001b[0m\u001b[0mMat1\u001b[0m\u001b[0;34m,\u001b[0m\u001b[0mMat2\u001b[0m\u001b[0;34m)\u001b[0m\u001b[0;34m\u001b[0m\u001b[0;34m\u001b[0m\u001b[0m\n\u001b[0m",
            "\u001b[0;31mValueError\u001b[0m: matmul: Input operand 1 has a mismatch in its core dimension 0, with gufunc signature (n?,k),(k,m?)->(n?,m?) (size 2 is different from 3)"
          ]
        }
      ]
    },
    {
      "cell_type": "code",
      "metadata": {
        "colab": {
          "base_uri": "https://localhost:8080/"
        },
        "id": "oc6vtjnPQOCy",
        "outputId": "46515237-6c50-4209-affc-dc5552eb1797"
      },
      "source": [
        "np.matmul(Mat1,Mat3)"
      ],
      "execution_count": 16,
      "outputs": [
        {
          "output_type": "execute_result",
          "data": {
            "text/plain": [
              "matrix([[ 58,  64],\n",
              "        [139, 154]])"
            ]
          },
          "metadata": {
            "tags": []
          },
          "execution_count": 16
        }
      ]
    },
    {
      "cell_type": "code",
      "metadata": {
        "colab": {
          "base_uri": "https://localhost:8080/"
        },
        "id": "jGEjslH4QTqI",
        "outputId": "b9396d81-2f3a-434c-bb2a-bc7a83d5bdac"
      },
      "source": [
        "# T\r\n",
        "np.transpose(Mat3)"
      ],
      "execution_count": 17,
      "outputs": [
        {
          "output_type": "execute_result",
          "data": {
            "text/plain": [
              "matrix([[ 7,  9, 11],\n",
              "        [ 8, 10, 12]])"
            ]
          },
          "metadata": {
            "tags": []
          },
          "execution_count": 17
        }
      ]
    },
    {
      "cell_type": "code",
      "metadata": {
        "colab": {
          "base_uri": "https://localhost:8080/"
        },
        "id": "VKRKjvKYTgaC",
        "outputId": "1a27b6b0-4c80-443d-8387-99106c310382"
      },
      "source": [
        "Mat3.T"
      ],
      "execution_count": 18,
      "outputs": [
        {
          "output_type": "execute_result",
          "data": {
            "text/plain": [
              "matrix([[ 7,  9, 11],\n",
              "        [ 8, 10, 12]])"
            ]
          },
          "metadata": {
            "tags": []
          },
          "execution_count": 18
        }
      ]
    },
    {
      "cell_type": "code",
      "metadata": {
        "colab": {
          "base_uri": "https://localhost:8080/"
        },
        "id": "zjPuhWjFThiP",
        "outputId": "4802245f-e8ff-4cca-8d98-a1f1325a0c89"
      },
      "source": [
        "Mat3.getT()"
      ],
      "execution_count": 19,
      "outputs": [
        {
          "output_type": "execute_result",
          "data": {
            "text/plain": [
              "matrix([[ 7,  9, 11],\n",
              "        [ 8, 10, 12]])"
            ]
          },
          "metadata": {
            "tags": []
          },
          "execution_count": 19
        }
      ]
    },
    {
      "cell_type": "code",
      "metadata": {
        "colab": {
          "base_uri": "https://localhost:8080/"
        },
        "id": "27Yy2mHIT9qj",
        "outputId": "924613b4-62f4-48ec-951f-778011a730cd"
      },
      "source": [
        "# Determinant\r\n",
        "Mat4 = np.matrix('1 2 3; 6 5 4; 8 7 9')\r\n",
        "np.linalg.det(Mat4)"
      ],
      "execution_count": 26,
      "outputs": [
        {
          "output_type": "execute_result",
          "data": {
            "text/plain": [
              "-20.99999999999999"
            ]
          },
          "metadata": {
            "tags": []
          },
          "execution_count": 26
        }
      ]
    },
    {
      "cell_type": "code",
      "metadata": {
        "colab": {
          "base_uri": "https://localhost:8080/"
        },
        "id": "cSj-FCrBaFjZ",
        "outputId": "90982549-50f0-4dfb-83d5-62f0dfe6e004"
      },
      "source": [
        "# Inverse\r\n",
        "x = np.array([[1,2],[3,4]])\r\n",
        "np.linalg.inv(x)"
      ],
      "execution_count": 27,
      "outputs": [
        {
          "output_type": "execute_result",
          "data": {
            "text/plain": [
              "array([[-2. ,  1. ],\n",
              "       [ 1.5, -0.5]])"
            ]
          },
          "metadata": {
            "tags": []
          },
          "execution_count": 27
        }
      ]
    },
    {
      "cell_type": "code",
      "metadata": {
        "colab": {
          "base_uri": "https://localhost:8080/"
        },
        "id": "6hp-dOQoWRtu",
        "outputId": "7d19df89-5bd1-4901-a46b-e980c3146486"
      },
      "source": [
        "#Sys of Eq\r\n",
        "a = np.array([[3,1], [1,2]])\r\n",
        "b = np.array([9,8])\r\n",
        "np.linalg.solve(a,b)"
      ],
      "execution_count": 29,
      "outputs": [
        {
          "output_type": "execute_result",
          "data": {
            "text/plain": [
              "array([2., 3.])"
            ]
          },
          "metadata": {
            "tags": []
          },
          "execution_count": 29
        }
      ]
    },
    {
      "cell_type": "code",
      "metadata": {
        "colab": {
          "base_uri": "https://localhost:8080/"
        },
        "id": "_Yhlp-g2aJtw",
        "outputId": "e21cfd8e-6fc5-48a4-825c-b14473302a09"
      },
      "source": [
        "# Eigen val\r\n",
        "X = np.diag((1,2,3))\r\n",
        "Ev, V = np.linalg.eig(X)\r\n",
        "print(Ev)\r\n",
        "print(V)"
      ],
      "execution_count": 32,
      "outputs": [
        {
          "output_type": "stream",
          "text": [
            "[1. 2. 3.]\n",
            "[[1. 0. 0.]\n",
            " [0. 1. 0.]\n",
            " [0. 0. 1.]]\n"
          ],
          "name": "stdout"
        }
      ]
    },
    {
      "cell_type": "code",
      "metadata": {
        "colab": {
          "base_uri": "https://localhost:8080/"
        },
        "id": "8VVhENNbcsVj",
        "outputId": "ab9b75dd-522d-41d9-bd16-b9e279b10a46"
      },
      "source": [
        "X = np.diag((1,2,3))\r\n",
        "np.linalg.eigvals(X)"
      ],
      "execution_count": 33,
      "outputs": [
        {
          "output_type": "execute_result",
          "data": {
            "text/plain": [
              "array([1., 2., 3.])"
            ]
          },
          "metadata": {
            "tags": []
          },
          "execution_count": 33
        }
      ]
    }
  ]
}