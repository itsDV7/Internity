{
  "nbformat": 4,
  "nbformat_minor": 0,
  "metadata": {
    "colab": {
      "name": "LinearRegression.ipynb",
      "provenance": []
    },
    "kernelspec": {
      "name": "python3",
      "display_name": "Python 3"
    }
  },
  "cells": [
    {
      "cell_type": "markdown",
      "metadata": {
        "id": "lO0N6NlxUaB-"
      },
      "source": [
        "# Simple Linear Regression\r\n",
        "Simple Linear Regression is a statistical model, widely used in ML regression tasks, based on the idea that the relationship between two variables can be explained by the following formula:\r\n",
        "```\r\n",
        "Y = Theata0 + Theta1 * X + E\r\n",
        "```\r\n",
        "E -> Error terms,</br>\r\n",
        "Theta0 and Theta1 -> True Parameters of Regression,</br>\r\n",
        "X -> Independent Variable.\r\n",
        "\r\n"
      ]
    },
    {
      "cell_type": "markdown",
      "metadata": {
        "id": "9y1Q0km7wfvr"
      },
      "source": [
        "# Gradient Descent\r\n",
        "* It is an Iterative Algo.\r\n",
        "> Simply means you have to perform it 'n' number of times to work.\r\n",
        "</br>\r\n",
        "* Used to find 'a' minimum of a 'differentiable function'\r\n",
        "> May or may not find global minima.\r\n",
        "> Differentiable fn is a smooth line(can be considered linear at each internal point) and does not have any break."
      ]
    },
    {
      "cell_type": "markdown",
      "metadata": {
        "id": "kBmnHphHxe6r"
      },
      "source": [
        "# Cost Function\r\n",
        "\r\n",
        "A function to measure the deviatioin of the model's prediction from the ground truth/true values.\r\n",
        "\r\n",
        "> Gradient Descent is used to minimize this Cost Function and to find optimal parameters."
      ]
    },
    {
      "cell_type": "markdown",
      "metadata": {
        "id": "bbS4FkuH0z_J"
      },
      "source": [
        "### Learning Rate - Alpha\r\n",
        "Can be defined as the distance that the model moves with each iteration. If set too big, the gradient descent might not find the minima. If set too small, it will take more iteration and longer time to reach a minima."
      ]
    },
    {
      "cell_type": "markdown",
      "metadata": {
        "id": "SQDOr_km19Ul"
      },
      "source": [
        "# Simultaneous Update\r\n",
        "Let's look at your surface with three variables. x and y are your theta values, and z is J(theta).\r\n",
        "\r\n",
        "What gradient descent does is look at the point on the surface where you are currently, and finds the quickest route down. This direction is a vector that is a combination of x and y.\r\n",
        "\r\n",
        "When you don't do simultaneous updates, it's like you're taking one step forward (in x), then one step right (in y), then one step forward, then one step right... At each step you're not choosing the steepest descent.\r\n",
        "\r\n",
        "When you update simultaneously, you're combining the two steps into one step that's forward and right at the same time. That's the direction you want to go."
      ]
    },
    {
      "cell_type": "code",
      "metadata": {
        "id": "LDLtaQXtrT9s"
      },
      "source": [
        "import numpy as np\r\n",
        "import pandas as pd\r\n",
        "import matplotlib.pyplot as plt\r\n",
        "import seaborn as sns\r\n",
        "from sklearn.datasets import make_regression"
      ],
      "execution_count": 488,
      "outputs": []
    },
    {
      "cell_type": "code",
      "metadata": {
        "id": "AOcKtTzySTEK"
      },
      "source": [
        "X, y = make_regression(n_samples=500, n_features=1, n_informative=1, noise=7, bias=50, random_state=200)\r\n",
        "m = 500"
      ],
      "execution_count": 489,
      "outputs": []
    },
    {
      "cell_type": "code",
      "metadata": {
        "colab": {
          "base_uri": "https://localhost:8080/",
          "height": 279
        },
        "id": "5roQE6l6qVzH",
        "outputId": "e249a4c3-565c-4a99-c47c-2b46995588de"
      },
      "source": [
        "plt.scatter(X,y, alpha = 0.4)\r\n",
        "plt.xlabel(\"X\")\r\n",
        "plt.ylabel(\"Y\")\r\n",
        "plt.show()"
      ],
      "execution_count": 490,
      "outputs": [
        {
          "output_type": "display_data",
          "data": {
            "image/png": "[encoded data removed]",
            "text/plain": [
              "<Figure size 432x288 with 1 Axes>"
            ]
          },
          "metadata": {
            "tags": [],
            "needs_background": "light"
          }
        }
      ]
    },
    {
      "cell_type": "code",
      "metadata": {
        "id": "UtAWwvhzq83f"
      },
      "source": [
        "import numpy as np\r\n",
        "def hypothesis(X,w):\r\n",
        "    return (w[1]*np.array(X[:,0])+w[0])"
      ],
      "execution_count": 491,
      "outputs": []
    },
    {
      "cell_type": "code",
      "metadata": {
        "id": "6LHkf9for9iB"
      },
      "source": [
        "def cost(w,X,y):\r\n",
        "    return (.5/m) * np.sum(np.square(hypothesis(X,w)-np.array(y)))"
      ],
      "execution_count": 492,
      "outputs": []
    },
    {
      "cell_type": "code",
      "metadata": {
        "id": "n8M751Wvsw-v"
      },
      "source": [
        "def grad(w,X,y):\r\n",
        "    g = [0]*2\r\n",
        "    g[0] = (1/m) * np.sum(hypothesis(X,w)-np.array(y))\r\n",
        "    g[1] = (1/m) * np.sum((hypothesis(X,w)-np.array(y))*np.array(X[:,0]))\r\n",
        "    return g"
      ],
      "execution_count": 493,
      "outputs": []
    },
    {
      "cell_type": "code",
      "metadata": {
        "id": "3dL8VaXSs0Rx"
      },
      "source": [
        "def descent(w_new, w_prev, lr):\r\n",
        "    print(w_prev)\r\n",
        "    print(cost(w_prev,X,y))\r\n",
        "    i=0\r\n",
        "    while True:\r\n",
        "        w_prev = w_new\r\n",
        "        w0 = w_prev[0] - lr*grad(w_prev,X,y)[0]\r\n",
        "        w1 = w_prev[1] - lr*grad(w_prev,X,y)[1]\r\n",
        "        w_new = [w0, w1]\r\n",
        "        print(w_new)\r\n",
        "        print(cost(w_new,X,y))\r\n",
        "        if (w_new[0]-w_prev[0])**2 + (w_new[1]-w_prev[1])**2 <= pow(10,-6):\r\n",
        "            return w_new\r\n",
        "        if i>700: \r\n",
        "            return w_new\r\n",
        "        i+=1"
      ],
      "execution_count": 494,
      "outputs": []
    },
    {
      "cell_type": "code",
      "metadata": {
        "id": "z-YuEHPHtFtV"
      },
      "source": [
        "w = [0,0]"
      ],
      "execution_count": 495,
      "outputs": []
    },
    {
      "cell_type": "code",
      "metadata": {
        "colab": {
          "base_uri": "https://localhost:8080/"
        },
        "id": "ICk10HRGuBM3",
        "outputId": "caa85394-aec3-45b0-86d9-140bf079062e"
      },
      "source": [
        "w = descent(w,w,.1)"
      ],
      "execution_count": 496,
      "outputs": [
        {
          "output_type": "stream",
          "text": [
            "[0, 0]\n",
            "1361.3173988352899\n",
            "[5.032371173546899, 1.3343709639081611]\n",
            "1103.994064035831\n",
            "[9.557715938958825, 2.523056087690324]\n",
            "896.164692400124\n",
            "[13.627150649596793, 3.581840846284423]\n",
            "728.305892053671\n",
            "[17.28663519655507, 4.5248111653932614]\n",
            "592.7273907629833\n",
            "[20.57749348119661, 5.364535418712168]\n",
            "483.21906153073616\n",
            "[23.5368813236068, 6.1122270259261295]\n",
            "394.76593780001025\n",
            "[26.198207118462886, 6.777889710982302]\n",
            "323.31811792536735\n",
            "[28.59151001281808, 7.3704472622614805]\n",
            "265.60498354606096\n",
            "[30.743799897619752, 7.897859441369547]\n",
            "218.9851946621252\n",
            "[32.679363070922875, 8.367225512930046]\n",
            "181.32556945076556\n",
            "[34.42003704078257, 8.784876711818411]\n",
            "150.90328494111466\n",
            "[35.98545758527278, 9.156458824800605]\n",
            "126.32690674662499\n",
            "[37.39328087199127, 9.487005938790986]\n",
            "106.47262149680674\n",
            "[38.659383156186806, 9.781006296374846]\n",
            "90.43274425414705\n",
            "[39.79804032205996, 10.042461099462315]\n",
            "77.474137204832\n",
            "[40.822089302945635, 10.274937012709582]\n",
            "67.00463122899653\n",
            "[41.74307321038032, 10.481613038549124]\n",
            "58.54590953822437\n",
            "[42.57137181714888, 10.665322364317813]\n",
            "51.71160932581754\n",
            "[43.31631887319095, 10.828589718170115]\n",
            "46.18963695932075\n",
            "[43.986307583834936, 10.973664713416516]\n",
            "41.727885673590265\n",
            "[44.58888544551871, 11.102551609921903]\n",
            "38.122700890828035\n",
            "[45.130839513423155, 11.217035875597146]\n",
            "35.20956438137802\n",
            "[45.61827306691406, 11.318707890248813]\n",
            "32.8555702816763\n",
            "[46.05667454112665, 11.408984097606357]\n",
            "30.953348182403506\n",
            "[46.450979505325066, 11.48912587876626]\n",
            "29.41615486772561\n",
            "[46.80562638982982, 11.560256391170036]\n",
            "28.173909874741774\n",
            "[47.12460659243389, 11.623375591201953]\n",
            "27.169993312519345\n",
            "[47.41150953151672, 11.679373635225781]\n",
            "26.35865931970682\n",
            "[47.669563155791025, 11.729042833085392]\n",
            "25.702946753092917\n",
            "[47.901670369129945, 11.773088309509717]\n",
            "25.17299148194329\n",
            "[48.11044178263564, 11.812137512254543]\n",
            "24.74466306028379\n",
            "[48.298225164500174, 11.846748690972381]\n",
            "24.398463405849622\n",
            "[48.46713192080244, 11.877418457539992]\n",
            "24.118637111894483\n",
            "[48.61906090675582, 11.904588526723577]\n",
            "23.892452706868003\n",
            "[48.75571983768927, 11.928651725474445]\n",
            "23.70962200153804\n",
            "[48.87864454186532, 11.94995734968905]\n",
            "23.56183098229283\n",
            "[48.98921627280439, 11.96881593881708]\n",
            "23.442360812848495\n",
            "[49.08867727681794, 11.985503531152448]\n",
            "23.345781628364573\n",
            "[49.17814479170429, 12.00026545589898]\n",
            "23.26770513495062\n",
            "[49.25862363480634, 12.013319712079586]\n",
            "23.204584716276916\n",
            "[49.33101752266819, 12.024859978978176]\n",
            "23.153553920667306\n",
            "[49.39613925017722, 12.035058297999148]\n",
            "23.112295956126243\n",
            "[49.45471984417609, 12.044067461538642]\n",
            "23.078938237566117\n",
            "[49.50741679492975, 12.052023140630288]\n",
            "23.051967174926133\n",
            "[49.55482145840375, 12.05904577970692]\n",
            "23.030159315299503\n",
            "[49.597465712934, 12.065242283764976]\n",
            "23.01252569892048\n",
            "[49.635827945438514, 12.070707520490958]\n",
            "22.998266892075943\n",
            "[49.6703384347422, 12.075525657474559]\n",
            "22.986736647293903\n",
            "[49.70138419277189, 12.079771352459451]\n",
            "22.9774125348113\n",
            "[49.729313318251805, 12.083510812642597]\n",
            "22.969872207336973\n",
            "[49.75443891202131, 12.086802737301229]\n",
            "22.96377421704116\n",
            "[49.77704259814408, 12.08969915648106]\n",
            "22.958842511265043\n",
            "[49.79737769052469, 12.09224617710002]\n",
            "22.954853901135657\n",
            "[49.81567204074475, 12.09448464659093]\n",
            "22.951627932756804\n",
            "[49.832130599230894, 12.09645074310833]\n",
            "22.949018700112365\n",
            "[49.846937718629874, 12.098176500344696]\n",
            "22.946908227264064\n",
            "[49.860259225355826, 12.09969027412714]\n",
            "22.945201118890267\n",
            "[49.872244282657796, 12.101017157185764]\n",
            "22.94382023595594\n",
            "[49.88302706620263, 12.102179347789239]\n",
            "22.942703199964033\n",
            "[49.892728271052775, 12.1031964773227]\n",
            "22.94179956694168\n",
            "[49.901456467016054, 12.10408590132967]\n",
            "22.94106854278268\n",
            "[49.909309317633955, 12.10486295804633]\n",
            "22.94047713618809\n",
            "[49.91637467653695, 12.105541198016336]\n",
            "22.939998665343897\n",
            "[49.92273157351218, 12.106132587982172]\n",
            "22.939611550554048\n",
            "[49.92845110138543, 12.10664769189916]\n",
            "22.93929833804163\n",
            "[49.93359721370082, 12.107095831606571]\n",
            "22.939044910633832\n",
            "[49.938227442176306, 12.107485229412257]\n",
            "22.938839849533835\n",
            "[49.94239354200866, 12.107823134599629]\n",
            "22.938673918243367\n",
            "[49.94614207228878, 12.108115935645015]\n",
            "22.938539645244553\n",
            "[49.949514918056735, 12.108369259736772]\n",
            "22.93843098653122\n",
            "[49.95254975986875, 12.108588061012258]\n",
            "22.93834305270287\n",
            "[49.95528049615687, 12.108776698772694]\n",
            "22.938271888262403\n",
            "[49.95773762313056, 12.108939006796822]\n",
            "22.93821429312595\n",
            "[49.95994857649136, 12.10907835475044]\n",
            "22.93816767826659\n",
            "[49.961938038801584, 12.109197702578575]\n",
            "22.93812994896048\n",
            "[49.96372821596183, 12.10929964866881]\n",
            "22.9380994103545\n",
            "[49.965339085903814, 12.109386472486872]\n",
            "22.938074691085276\n",
            "[49.96678862229295, 12.10946017230766]\n",
            "22.938054681497075\n",
            "[49.968092995753516, 12.10952249859566]\n",
            "22.938038483666425\n",
            "[49.969266754876436, 12.109574983526965]\n",
            "22.938025370975875\n",
            "[49.97032298904256, 12.10961896709025]\n",
            "22.93801475541125\n",
            "[49.97127347488939, 12.10965562015522]\n",
            "22.93800616110576\n"
          ],
          "name": "stdout"
        }
      ]
    },
    {
      "cell_type": "code",
      "metadata": {
        "colab": {
          "base_uri": "https://localhost:8080/",
          "height": 279
        },
        "id": "8KjKILfDub1F",
        "outputId": "e190accb-0c9a-45a9-e1a4-ddc4b588a013"
      },
      "source": [
        "def graph(formula, x_range):  \r\n",
        "    x = np.array(x_range)  \r\n",
        "    y = my_formula(x)  \r\n",
        "    plt.plot(x, y)  \r\n",
        "    \r\n",
        "def my_formula(x):\r\n",
        "    return w[0]+w[1]*x\r\n",
        "\r\n",
        "plt.scatter(X,y,color = 'red', alpha = 0.2)\r\n",
        "graph(my_formula, range(-4,5))\r\n",
        "plt.xlabel('X')\r\n",
        "plt.ylabel('Y')\r\n",
        "plt.show()"
      ],
      "execution_count": 498,
      "outputs": [
        {
          "output_type": "display_data",
          "data": {
            "image/png": "[encoded data removed]",
            "text/plain": [
              "<Figure size 432x288 with 1 Axes>"
            ]
          },
          "metadata": {
            "tags": [],
            "needs_background": "light"
          }
        }
      ]
    },
    {
      "cell_type": "markdown",
      "metadata": {
        "id": "qgaNT7vjEGA6"
      },
      "source": [
        "# R^2 Method\r\n",
        "SST: Sum of Squares Total -> Total Variation</br>\r\n",
        "SSR: Sum of Squares Regression -> Explained Variation</br>\r\n",
        "SSE: Sum of Squares Errors -> Unexplained Variation</br>\r\n",
        "\r\n",
        "SST = SSR + SSE\r\n",
        "\r\n",
        "R^2 = SSR/SST = 1-(SSR/SST)\r\n",
        "\r\n"
      ]
    },
    {
      "cell_type": "code",
      "metadata": {
        "colab": {
          "base_uri": "https://localhost:8080/"
        },
        "id": "F6wq0d8KM04X",
        "outputId": "106cc260-c779-443d-cf3d-e430b87d5903"
      },
      "source": [
        "def r2_test(y,y_calc):\r\n",
        "    SSR = np.sum((y-y_calc)**2)\r\n",
        "    SST = np.sum((y-y.mean())**2)\r\n",
        "    return (1-(SSR/SST))*100\r\n",
        "print(r2_test(y,hypothesis(X,w)))"
      ],
      "execution_count": 499,
      "outputs": [
        {
          "output_type": "stream",
          "text": [
            "75.87489828606884\n"
          ],
          "name": "stdout"
        }
      ]
    },
    {
      "cell_type": "code",
      "metadata": {
        "colab": {
          "base_uri": "https://localhost:8080/",
          "height": 204
        },
        "id": "2m-GG7frT-jr",
        "outputId": "76f19cd8-5f29-45b0-fa29-5e35b74206e7"
      },
      "source": [
        "df = pd.read_csv(\"/content/mtcars.csv\")\r\n",
        "df.head()"
      ],
      "execution_count": 500,
      "outputs": [
        {
          "output_type": "execute_result",
          "data": {
            "text/html": [
              "<div>\n",
              "<style scoped>\n",
              "    .dataframe tbody tr th:only-of-type {\n",
              "        vertical-align: middle;\n",
              "    }\n",
              "\n",
              "    .dataframe tbody tr th {\n",
              "        vertical-align: top;\n",
              "    }\n",
              "\n",
              "    .dataframe thead th {\n",
              "        text-align: right;\n",
              "    }\n",
              "</style>\n",
              "<table border=\"1\" class=\"dataframe\">\n",
              "  <thead>\n",
              "    <tr style=\"text-align: right;\">\n",
              "      <th></th>\n",
              "      <th>Unnamed: 0</th>\n",
              "      <th>mpg</th>\n",
              "      <th>cyl</th>\n",
              "      <th>disp</th>\n",
              "      <th>hp</th>\n",
              "      <th>drat</th>\n",
              "      <th>wt</th>\n",
              "      <th>qsec</th>\n",
              "      <th>vs</th>\n",
              "      <th>am</th>\n",
              "      <th>gear</th>\n",
              "      <th>carb</th>\n",
              "    </tr>\n",
              "  </thead>\n",
              "  <tbody>\n",
              "    <tr>\n",
              "      <th>0</th>\n",
              "      <td>Mazda RX4</td>\n",
              "      <td>21.0</td>\n",
              "      <td>6</td>\n",
              "      <td>160.0</td>\n",
              "      <td>110</td>\n",
              "      <td>3.90</td>\n",
              "      <td>2.620</td>\n",
              "      <td>16.46</td>\n",
              "      <td>0</td>\n",
              "      <td>1</td>\n",
              "      <td>4</td>\n",
              "      <td>4</td>\n",
              "    </tr>\n",
              "    <tr>\n",
              "      <th>1</th>\n",
              "      <td>Mazda RX4 Wag</td>\n",
              "      <td>21.0</td>\n",
              "      <td>6</td>\n",
              "      <td>160.0</td>\n",
              "      <td>110</td>\n",
              "      <td>3.90</td>\n",
              "      <td>2.875</td>\n",
              "      <td>17.02</td>\n",
              "      <td>0</td>\n",
              "      <td>1</td>\n",
              "      <td>4</td>\n",
              "      <td>4</td>\n",
              "    </tr>\n",
              "    <tr>\n",
              "      <th>2</th>\n",
              "      <td>Datsun 710</td>\n",
              "      <td>22.8</td>\n",
              "      <td>4</td>\n",
              "      <td>108.0</td>\n",
              "      <td>93</td>\n",
              "      <td>3.85</td>\n",
              "      <td>2.320</td>\n",
              "      <td>18.61</td>\n",
              "      <td>1</td>\n",
              "      <td>1</td>\n",
              "      <td>4</td>\n",
              "      <td>1</td>\n",
              "    </tr>\n",
              "    <tr>\n",
              "      <th>3</th>\n",
              "      <td>Hornet 4 Drive</td>\n",
              "      <td>21.4</td>\n",
              "      <td>6</td>\n",
              "      <td>258.0</td>\n",
              "      <td>110</td>\n",
              "      <td>3.08</td>\n",
              "      <td>3.215</td>\n",
              "      <td>19.44</td>\n",
              "      <td>1</td>\n",
              "      <td>0</td>\n",
              "      <td>3</td>\n",
              "      <td>1</td>\n",
              "    </tr>\n",
              "    <tr>\n",
              "      <th>4</th>\n",
              "      <td>Hornet Sportabout</td>\n",
              "      <td>18.7</td>\n",
              "      <td>8</td>\n",
              "      <td>360.0</td>\n",
              "      <td>175</td>\n",
              "      <td>3.15</td>\n",
              "      <td>3.440</td>\n",
              "      <td>17.02</td>\n",
              "      <td>0</td>\n",
              "      <td>0</td>\n",
              "      <td>3</td>\n",
              "      <td>2</td>\n",
              "    </tr>\n",
              "  </tbody>\n",
              "</table>\n",
              "</div>"
            ],
            "text/plain": [
              "          Unnamed: 0   mpg  cyl   disp   hp  ...   qsec  vs  am  gear  carb\n",
              "0          Mazda RX4  21.0    6  160.0  110  ...  16.46   0   1     4     4\n",
              "1      Mazda RX4 Wag  21.0    6  160.0  110  ...  17.02   0   1     4     4\n",
              "2         Datsun 710  22.8    4  108.0   93  ...  18.61   1   1     4     1\n",
              "3     Hornet 4 Drive  21.4    6  258.0  110  ...  19.44   1   0     3     1\n",
              "4  Hornet Sportabout  18.7    8  360.0  175  ...  17.02   0   0     3     2\n",
              "\n",
              "[5 rows x 12 columns]"
            ]
          },
          "metadata": {
            "tags": []
          },
          "execution_count": 500
        }
      ]
    },
    {
      "cell_type": "code",
      "metadata": {
        "colab": {
          "base_uri": "https://localhost:8080/",
          "height": 269
        },
        "id": "L36PiH35ZJ9o",
        "outputId": "1ad5ee52-7a3c-4ae6-ecef-3641b5abccac"
      },
      "source": [
        "cor = df.corr().round(2)\r\n",
        "sns.heatmap(data=cor,annot=True)\r\n",
        "plt.show()"
      ],
      "execution_count": 501,
      "outputs": [
        {
          "output_type": "display_data",
          "data": {
            "image/png": "[encoded data removed]",
            "text/plain": [
              "<Figure size 432x288 with 2 Axes>"
            ]
          },
          "metadata": {
            "tags": [],
            "needs_background": "light"
          }
        }
      ]
    },
    {
      "cell_type": "code",
      "metadata": {
        "colab": {
          "base_uri": "https://localhost:8080/"
        },
        "id": "rBudaZjiUaKH",
        "outputId": "86adcc67-1a9a-403a-9dd8-cd5118eff077"
      },
      "source": [
        "df.isna().sum()"
      ],
      "execution_count": 502,
      "outputs": [
        {
          "output_type": "execute_result",
          "data": {
            "text/plain": [
              "Unnamed: 0    0\n",
              "mpg           0\n",
              "cyl           0\n",
              "disp          0\n",
              "hp            0\n",
              "drat          0\n",
              "wt            0\n",
              "qsec          0\n",
              "vs            0\n",
              "am            0\n",
              "gear          0\n",
              "carb          0\n",
              "dtype: int64"
            ]
          },
          "metadata": {
            "tags": []
          },
          "execution_count": 502
        }
      ]
    },
    {
      "cell_type": "code",
      "metadata": {
        "colab": {
          "base_uri": "https://localhost:8080/",
          "height": 204
        },
        "id": "4y3MR_UQWc50",
        "outputId": "d7164e02-a022-4822-f4be-647c53947593"
      },
      "source": [
        "df = df.drop(['cyl','disp','hp','drat','qsec','vs','am','gear','carb','Unnamed: 0'], axis = 1)\r\n",
        "df.head()"
      ],
      "execution_count": 503,
      "outputs": [
        {
          "output_type": "execute_result",
          "data": {
            "text/html": [
              "<div>\n",
              "<style scoped>\n",
              "    .dataframe tbody tr th:only-of-type {\n",
              "        vertical-align: middle;\n",
              "    }\n",
              "\n",
              "    .dataframe tbody tr th {\n",
              "        vertical-align: top;\n",
              "    }\n",
              "\n",
              "    .dataframe thead th {\n",
              "        text-align: right;\n",
              "    }\n",
              "</style>\n",
              "<table border=\"1\" class=\"dataframe\">\n",
              "  <thead>\n",
              "    <tr style=\"text-align: right;\">\n",
              "      <th></th>\n",
              "      <th>mpg</th>\n",
              "      <th>wt</th>\n",
              "    </tr>\n",
              "  </thead>\n",
              "  <tbody>\n",
              "    <tr>\n",
              "      <th>0</th>\n",
              "      <td>21.0</td>\n",
              "      <td>2.620</td>\n",
              "    </tr>\n",
              "    <tr>\n",
              "      <th>1</th>\n",
              "      <td>21.0</td>\n",
              "      <td>2.875</td>\n",
              "    </tr>\n",
              "    <tr>\n",
              "      <th>2</th>\n",
              "      <td>22.8</td>\n",
              "      <td>2.320</td>\n",
              "    </tr>\n",
              "    <tr>\n",
              "      <th>3</th>\n",
              "      <td>21.4</td>\n",
              "      <td>3.215</td>\n",
              "    </tr>\n",
              "    <tr>\n",
              "      <th>4</th>\n",
              "      <td>18.7</td>\n",
              "      <td>3.440</td>\n",
              "    </tr>\n",
              "  </tbody>\n",
              "</table>\n",
              "</div>"
            ],
            "text/plain": [
              "    mpg     wt\n",
              "0  21.0  2.620\n",
              "1  21.0  2.875\n",
              "2  22.8  2.320\n",
              "3  21.4  3.215\n",
              "4  18.7  3.440"
            ]
          },
          "metadata": {
            "tags": []
          },
          "execution_count": 503
        }
      ]
    },
    {
      "cell_type": "code",
      "metadata": {
        "id": "gnTI8njuXI-q"
      },
      "source": [
        "Xi = df['wt']\r\n",
        "yi = df['mpg']\r\n",
        "m = Xi.count()"
      ],
      "execution_count": 504,
      "outputs": []
    },
    {
      "cell_type": "code",
      "metadata": {
        "colab": {
          "base_uri": "https://localhost:8080/",
          "height": 283
        },
        "id": "UC7u-yOjXpfp",
        "outputId": "aa99eb2c-316c-42cb-870e-d9d372542ced"
      },
      "source": [
        "plt.scatter(Xi,yi, alpha = 0.4)\r\n",
        "plt.xlabel(\"X\")\r\n",
        "plt.ylabel(\"Y\")\r\n",
        "plt.show()"
      ],
      "execution_count": 505,
      "outputs": [
        {
          "output_type": "display_data",
          "data": {
            "image/png": "[encoded data removed]",
            "text/plain": [
              "<Figure size 432x288 with 1 Axes>"
            ]
          },
          "metadata": {
            "tags": [],
            "needs_background": "light"
          }
        }
      ]
    },
    {
      "cell_type": "code",
      "metadata": {
        "id": "ZmdL8NHBXp5q"
      },
      "source": [
        "X = (Xi - min(Xi))/(max(Xi)-min(Xi))\r\n",
        "y = (yi - min(yi))/(max(yi)-min(yi))\r\n",
        "\r\n",
        "X = (X - np.mean(X)) / np.std(X)\r\n",
        "y = (y - np.mean(y)) / np.std(y)"
      ],
      "execution_count": 506,
      "outputs": []
    },
    {
      "cell_type": "code",
      "metadata": {
        "colab": {
          "base_uri": "https://localhost:8080/",
          "height": 282
        },
        "id": "1zbayF5wYTYu",
        "outputId": "69d7e13f-01f1-42d8-feb3-ed6c28c9bcd6"
      },
      "source": [
        "plt.scatter(X,y, alpha = 0.4)\r\n",
        "plt.xlabel(\"X\")\r\n",
        "plt.ylabel(\"Y\")\r\n",
        "plt.show()"
      ],
      "execution_count": 507,
      "outputs": [
        {
          "output_type": "display_data",
          "data": {
            "image/png": "[encoded data removed]",
            "text/plain": [
              "<Figure size 432x288 with 1 Axes>"
            ]
          },
          "metadata": {
            "tags": [],
            "needs_background": "light"
          }
        }
      ]
    },
    {
      "cell_type": "code",
      "metadata": {
        "id": "uuqsyRXfcuI3"
      },
      "source": [
        "X = X.to_numpy()\r\n",
        "y = y.to_numpy()"
      ],
      "execution_count": 508,
      "outputs": []
    },
    {
      "cell_type": "code",
      "metadata": {
        "id": "gVtXbXktd9P-"
      },
      "source": [
        "X = X.reshape((m,1))"
      ],
      "execution_count": 509,
      "outputs": []
    },
    {
      "cell_type": "code",
      "metadata": {
        "id": "T8pZlsvWb4oc"
      },
      "source": [
        "w = [0,0]\r\n",
        "w = descent(w,w,.1)"
      ],
      "execution_count": null,
      "outputs": []
    },
    {
      "cell_type": "code",
      "metadata": {
        "colab": {
          "base_uri": "https://localhost:8080/",
          "height": 279
        },
        "id": "shtGNIUHfbCE",
        "outputId": "62e2cb26-88e6-48c9-8f19-acb612259a79"
      },
      "source": [
        "plt.scatter(X,y,color = 'red', alpha = 0.2)\r\n",
        "graph(my_formula, range(-4,5))\r\n",
        "plt.xlabel('X')\r\n",
        "plt.ylabel('Y')\r\n",
        "plt.show()"
      ],
      "execution_count": 511,
      "outputs": [
        {
          "output_type": "display_data",
          "data": {
            "image/png": "[encoded data removed]",
            "text/plain": [
              "<Figure size 432x288 with 1 Axes>"
            ]
          },
          "metadata": {
            "tags": [],
            "needs_background": "light"
          }
        }
      ]
    },
    {
      "cell_type": "code",
      "metadata": {
        "colab": {
          "base_uri": "https://localhost:8080/"
        },
        "id": "twG7oTWrfk4h",
        "outputId": "9eaeefa1-a227-4886-cbe0-691d47a6ab8f"
      },
      "source": [
        "print(r2_test(y,hypothesis(X,w)))"
      ],
      "execution_count": 512,
      "outputs": [
        {
          "output_type": "stream",
          "text": [
            "75.27619926635202\n"
          ],
          "name": "stdout"
        }
      ]
    },
    {
      "cell_type": "markdown",
      "metadata": {
        "id": "TT8HsggdhS8k"
      },
      "source": [
        "# Multiple Linear Regression"
      ]
    },
    {
      "cell_type": "code",
      "metadata": {
        "colab": {
          "base_uri": "https://localhost:8080/",
          "height": 204
        },
        "id": "8rhW68ZUd0wd",
        "outputId": "77261c1d-66b9-433f-9d34-2b2b731e1503"
      },
      "source": [
        "df = pd.read_csv(\"/content/mtcars.csv\")\r\n",
        "df.head()"
      ],
      "execution_count": 513,
      "outputs": [
        {
          "output_type": "execute_result",
          "data": {
            "text/html": [
              "<div>\n",
              "<style scoped>\n",
              "    .dataframe tbody tr th:only-of-type {\n",
              "        vertical-align: middle;\n",
              "    }\n",
              "\n",
              "    .dataframe tbody tr th {\n",
              "        vertical-align: top;\n",
              "    }\n",
              "\n",
              "    .dataframe thead th {\n",
              "        text-align: right;\n",
              "    }\n",
              "</style>\n",
              "<table border=\"1\" class=\"dataframe\">\n",
              "  <thead>\n",
              "    <tr style=\"text-align: right;\">\n",
              "      <th></th>\n",
              "      <th>Unnamed: 0</th>\n",
              "      <th>mpg</th>\n",
              "      <th>cyl</th>\n",
              "      <th>disp</th>\n",
              "      <th>hp</th>\n",
              "      <th>drat</th>\n",
              "      <th>wt</th>\n",
              "      <th>qsec</th>\n",
              "      <th>vs</th>\n",
              "      <th>am</th>\n",
              "      <th>gear</th>\n",
              "      <th>carb</th>\n",
              "    </tr>\n",
              "  </thead>\n",
              "  <tbody>\n",
              "    <tr>\n",
              "      <th>0</th>\n",
              "      <td>Mazda RX4</td>\n",
              "      <td>21.0</td>\n",
              "      <td>6</td>\n",
              "      <td>160.0</td>\n",
              "      <td>110</td>\n",
              "      <td>3.90</td>\n",
              "      <td>2.620</td>\n",
              "      <td>16.46</td>\n",
              "      <td>0</td>\n",
              "      <td>1</td>\n",
              "      <td>4</td>\n",
              "      <td>4</td>\n",
              "    </tr>\n",
              "    <tr>\n",
              "      <th>1</th>\n",
              "      <td>Mazda RX4 Wag</td>\n",
              "      <td>21.0</td>\n",
              "      <td>6</td>\n",
              "      <td>160.0</td>\n",
              "      <td>110</td>\n",
              "      <td>3.90</td>\n",
              "      <td>2.875</td>\n",
              "      <td>17.02</td>\n",
              "      <td>0</td>\n",
              "      <td>1</td>\n",
              "      <td>4</td>\n",
              "      <td>4</td>\n",
              "    </tr>\n",
              "    <tr>\n",
              "      <th>2</th>\n",
              "      <td>Datsun 710</td>\n",
              "      <td>22.8</td>\n",
              "      <td>4</td>\n",
              "      <td>108.0</td>\n",
              "      <td>93</td>\n",
              "      <td>3.85</td>\n",
              "      <td>2.320</td>\n",
              "      <td>18.61</td>\n",
              "      <td>1</td>\n",
              "      <td>1</td>\n",
              "      <td>4</td>\n",
              "      <td>1</td>\n",
              "    </tr>\n",
              "    <tr>\n",
              "      <th>3</th>\n",
              "      <td>Hornet 4 Drive</td>\n",
              "      <td>21.4</td>\n",
              "      <td>6</td>\n",
              "      <td>258.0</td>\n",
              "      <td>110</td>\n",
              "      <td>3.08</td>\n",
              "      <td>3.215</td>\n",
              "      <td>19.44</td>\n",
              "      <td>1</td>\n",
              "      <td>0</td>\n",
              "      <td>3</td>\n",
              "      <td>1</td>\n",
              "    </tr>\n",
              "    <tr>\n",
              "      <th>4</th>\n",
              "      <td>Hornet Sportabout</td>\n",
              "      <td>18.7</td>\n",
              "      <td>8</td>\n",
              "      <td>360.0</td>\n",
              "      <td>175</td>\n",
              "      <td>3.15</td>\n",
              "      <td>3.440</td>\n",
              "      <td>17.02</td>\n",
              "      <td>0</td>\n",
              "      <td>0</td>\n",
              "      <td>3</td>\n",
              "      <td>2</td>\n",
              "    </tr>\n",
              "  </tbody>\n",
              "</table>\n",
              "</div>"
            ],
            "text/plain": [
              "          Unnamed: 0   mpg  cyl   disp   hp  ...   qsec  vs  am  gear  carb\n",
              "0          Mazda RX4  21.0    6  160.0  110  ...  16.46   0   1     4     4\n",
              "1      Mazda RX4 Wag  21.0    6  160.0  110  ...  17.02   0   1     4     4\n",
              "2         Datsun 710  22.8    4  108.0   93  ...  18.61   1   1     4     1\n",
              "3     Hornet 4 Drive  21.4    6  258.0  110  ...  19.44   1   0     3     1\n",
              "4  Hornet Sportabout  18.7    8  360.0  175  ...  17.02   0   0     3     2\n",
              "\n",
              "[5 rows x 12 columns]"
            ]
          },
          "metadata": {
            "tags": []
          },
          "execution_count": 513
        }
      ]
    },
    {
      "cell_type": "code",
      "metadata": {
        "colab": {
          "base_uri": "https://localhost:8080/",
          "height": 269
        },
        "id": "nmHWM6QUk_34",
        "outputId": "2d13fca8-4bc9-493c-e815-e3b792994d10"
      },
      "source": [
        "cor = df.corr().round(2)\r\n",
        "sns.heatmap(data=cor,annot=True)\r\n",
        "plt.show()"
      ],
      "execution_count": 514,
      "outputs": [
        {
          "output_type": "display_data",
          "data": {
            "image/png": "[encoded data removed]",
            "text/plain": [
              "<Figure size 432x288 with 2 Axes>"
            ]
          },
          "metadata": {
            "tags": [],
            "needs_background": "light"
          }
        }
      ]
    },
    {
      "cell_type": "code",
      "metadata": {
        "colab": {
          "base_uri": "https://localhost:8080/"
        },
        "id": "e2LUt-Pqlg_v",
        "outputId": "757b7695-94a3-4af1-9fc9-e32c56fe71ff"
      },
      "source": [
        "df.isna().sum()"
      ],
      "execution_count": 515,
      "outputs": [
        {
          "output_type": "execute_result",
          "data": {
            "text/plain": [
              "Unnamed: 0    0\n",
              "mpg           0\n",
              "cyl           0\n",
              "disp          0\n",
              "hp            0\n",
              "drat          0\n",
              "wt            0\n",
              "qsec          0\n",
              "vs            0\n",
              "am            0\n",
              "gear          0\n",
              "carb          0\n",
              "dtype: int64"
            ]
          },
          "metadata": {
            "tags": []
          },
          "execution_count": 515
        }
      ]
    },
    {
      "cell_type": "code",
      "metadata": {
        "colab": {
          "base_uri": "https://localhost:8080/",
          "height": 204
        },
        "id": "WeuVfPYPllKU",
        "outputId": "495dc0ec-3dae-4564-9467-490ac7e4a009"
      },
      "source": [
        "df = df.drop(['cyl','disp','drat','qsec','vs','am','gear','carb','Unnamed: 0'], axis = 1)\r\n",
        "df.head()"
      ],
      "execution_count": 516,
      "outputs": [
        {
          "output_type": "execute_result",
          "data": {
            "text/html": [
              "<div>\n",
              "<style scoped>\n",
              "    .dataframe tbody tr th:only-of-type {\n",
              "        vertical-align: middle;\n",
              "    }\n",
              "\n",
              "    .dataframe tbody tr th {\n",
              "        vertical-align: top;\n",
              "    }\n",
              "\n",
              "    .dataframe thead th {\n",
              "        text-align: right;\n",
              "    }\n",
              "</style>\n",
              "<table border=\"1\" class=\"dataframe\">\n",
              "  <thead>\n",
              "    <tr style=\"text-align: right;\">\n",
              "      <th></th>\n",
              "      <th>mpg</th>\n",
              "      <th>hp</th>\n",
              "      <th>wt</th>\n",
              "    </tr>\n",
              "  </thead>\n",
              "  <tbody>\n",
              "    <tr>\n",
              "      <th>0</th>\n",
              "      <td>21.0</td>\n",
              "      <td>110</td>\n",
              "      <td>2.620</td>\n",
              "    </tr>\n",
              "    <tr>\n",
              "      <th>1</th>\n",
              "      <td>21.0</td>\n",
              "      <td>110</td>\n",
              "      <td>2.875</td>\n",
              "    </tr>\n",
              "    <tr>\n",
              "      <th>2</th>\n",
              "      <td>22.8</td>\n",
              "      <td>93</td>\n",
              "      <td>2.320</td>\n",
              "    </tr>\n",
              "    <tr>\n",
              "      <th>3</th>\n",
              "      <td>21.4</td>\n",
              "      <td>110</td>\n",
              "      <td>3.215</td>\n",
              "    </tr>\n",
              "    <tr>\n",
              "      <th>4</th>\n",
              "      <td>18.7</td>\n",
              "      <td>175</td>\n",
              "      <td>3.440</td>\n",
              "    </tr>\n",
              "  </tbody>\n",
              "</table>\n",
              "</div>"
            ],
            "text/plain": [
              "    mpg   hp     wt\n",
              "0  21.0  110  2.620\n",
              "1  21.0  110  2.875\n",
              "2  22.8   93  2.320\n",
              "3  21.4  110  3.215\n",
              "4  18.7  175  3.440"
            ]
          },
          "metadata": {
            "tags": []
          },
          "execution_count": 516
        }
      ]
    },
    {
      "cell_type": "code",
      "metadata": {
        "id": "9v3epsnCl7_3"
      },
      "source": [
        "Xi = df[['wt','hp']]\r\n",
        "yi = df['mpg']\r\n",
        "m = Xi.wt.count()"
      ],
      "execution_count": 517,
      "outputs": []
    },
    {
      "cell_type": "code",
      "metadata": {
        "id": "D886fJCNmXj3"
      },
      "source": [
        "for column in Xi:\r\n",
        "  Xi[column] = (Xi[column] - min(Xi[column]))/(max(Xi[column])-min(Xi[column]))\r\n",
        "X = Xi\r\n",
        "y = (yi - min(yi))/(max(yi)-min(yi))\r\n",
        "X = (X - np.mean(X)) / np.std(X)\r\n",
        "y = (y - np.mean(y)) / np.std(y)"
      ],
      "execution_count": null,
      "outputs": []
    },
    {
      "cell_type": "code",
      "metadata": {
        "colab": {
          "base_uri": "https://localhost:8080/",
          "height": 282
        },
        "id": "uRkza3s4d3tF",
        "outputId": "84396720-5e60-479b-c73b-583136e29575"
      },
      "source": [
        "plt.scatter(X.wt,y, alpha = 0.4)\r\n",
        "plt.scatter(X.hp,y, alpha = 0.4, color = 'red')\r\n",
        "plt.xlabel(\"X\")\r\n",
        "plt.ylabel(\"Y\")\r\n",
        "plt.show()"
      ],
      "execution_count": 519,
      "outputs": [
        {
          "output_type": "display_data",
          "data": {
            "image/png": "[encoded data removed]",
            "text/plain": [
              "<Figure size 432x288 with 1 Axes>"
            ]
          },
          "metadata": {
            "tags": [],
            "needs_background": "light"
          }
        }
      ]
    },
    {
      "cell_type": "code",
      "metadata": {
        "id": "0FM_ZL-oeVz2"
      },
      "source": [
        "X = X.to_numpy()\r\n",
        "y = y.to_numpy()"
      ],
      "execution_count": 520,
      "outputs": []
    },
    {
      "cell_type": "code",
      "metadata": {
        "id": "BFIVQm60egsj"
      },
      "source": [
        "X = np.c_[X,np.ones(m)]"
      ],
      "execution_count": 521,
      "outputs": []
    },
    {
      "cell_type": "code",
      "metadata": {
        "colab": {
          "base_uri": "https://localhost:8080/"
        },
        "id": "8_YSAlbofPrk",
        "outputId": "3233fd1b-97f3-4871-9e0a-32ee29d8b4bc"
      },
      "source": [
        "X[:5]"
      ],
      "execution_count": 522,
      "outputs": [
        {
          "output_type": "execute_result",
          "data": {
            "text/plain": [
              "array([[-0.62016658, -0.54365487,  1.        ],\n",
              "       [-0.35538219, -0.54365487,  1.        ],\n",
              "       [-0.93167763, -0.7955699 ,  1.        ],\n",
              "       [-0.00233633, -0.54365487,  1.        ],\n",
              "       [ 0.23129695,  0.41954967,  1.        ]])"
            ]
          },
          "metadata": {
            "tags": []
          },
          "execution_count": 522
        }
      ]
    },
    {
      "cell_type": "code",
      "metadata": {
        "colab": {
          "base_uri": "https://localhost:8080/"
        },
        "id": "rZIHdHWhg-qC",
        "outputId": "eca16906-478f-4317-bbee-bd1fe95479b6"
      },
      "source": [
        "y[:5]"
      ],
      "execution_count": 523,
      "outputs": [
        {
          "output_type": "execute_result",
          "data": {
            "text/plain": [
              "array([ 0.15329914,  0.15329914,  0.4567366 ,  0.22072968, -0.23442651])"
            ]
          },
          "metadata": {
            "tags": []
          },
          "execution_count": 523
        }
      ]
    },
    {
      "cell_type": "code",
      "metadata": {
        "id": "67PcoP3DDUUY"
      },
      "source": [
        "def gradient_descent(x, y, m, theta, alpha):\r\n",
        "    cost_list = []  \r\n",
        "    theta_list = [] \r\n",
        "    prediction_list = []\r\n",
        "    run = True\r\n",
        "    cost_list.append(1e10) \r\n",
        "    i=0\r\n",
        "    while run:\r\n",
        "        prediction = np.dot(x, theta) \r\n",
        "        prediction_list.append(prediction)\r\n",
        "        error = prediction - y\r\n",
        "        cost = 1/(2*m) * np.dot(error.T, error) \r\n",
        "        cost_list.append(cost)\r\n",
        "        theta = theta - (alpha * (1/m) * np.dot(x.T, error)) \r\n",
        "        theta_list.append(theta)\r\n",
        "        if cost_list[i]-cost_list[i+1] < 1e-9:\r\n",
        "            run = False\r\n",
        "\r\n",
        "        i+=1\r\n",
        "    cost_list.pop(0)\r\n",
        "    return prediction_list, cost_list, theta_list"
      ],
      "execution_count": 524,
      "outputs": []
    },
    {
      "cell_type": "code",
      "metadata": {
        "id": "7shPeILLDVMb"
      },
      "source": [
        "theta = np.zeros(3)\r\n",
        "alpha = 0.1\r\n",
        "prediction_list, cost_list, theta_list = gradient_descent(X, y, m, theta, alpha)"
      ],
      "execution_count": 525,
      "outputs": []
    },
    {
      "cell_type": "code",
      "metadata": {
        "id": "i04K_2m5Djrj"
      },
      "source": [
        "theta = theta_list[-1]"
      ],
      "execution_count": 526,
      "outputs": []
    },
    {
      "cell_type": "code",
      "metadata": {
        "colab": {
          "base_uri": "https://localhost:8080/",
          "height": 295
        },
        "id": "olYiDFMMDj88",
        "outputId": "fa90b50c-f36a-44c2-d174-cb2edfa017a4"
      },
      "source": [
        "plt.title('Cost Fn')\r\n",
        "plt.xlabel('Iter')\r\n",
        "plt.ylabel('Cost')\r\n",
        "plt.plot(cost_list)\r\n",
        "plt.show()"
      ],
      "execution_count": 527,
      "outputs": [
        {
          "output_type": "display_data",
          "data": {
            "image/png": "[encoded data removed]",
            "text/plain": [
              "<Figure size 432x288 with 1 Axes>"
            ]
          },
          "metadata": {
            "tags": [],
            "needs_background": "light"
          }
        }
      ]
    },
    {
      "cell_type": "code",
      "metadata": {
        "colab": {
          "base_uri": "https://localhost:8080/"
        },
        "id": "8WY9LyzdIF6Z",
        "outputId": "569f64a0-d568-4857-a40c-b8b60e78e448"
      },
      "source": [
        "print(r2_test(y,np.dot(X, theta)))"
      ],
      "execution_count": 528,
      "outputs": [
        {
          "output_type": "stream",
          "text": [
            "82.67854274076456\n"
          ],
          "name": "stdout"
        }
      ]
    },
    {
      "cell_type": "code",
      "metadata": {
        "colab": {
          "base_uri": "https://localhost:8080/",
          "height": 279
        },
        "id": "O-9rxUcxO_zI",
        "outputId": "63939221-ccc0-4548-ca10-b503fdcb1676"
      },
      "source": [
        "def graph(formula, x_range):  \r\n",
        "    x = np.array(x_range)  \r\n",
        "    y = my_formula(x)  \r\n",
        "    plt.plot(x, y)  \r\n",
        "    \r\n",
        "def my_formula(x):\r\n",
        "    return w[0]+w[1]*x\r\n",
        "\r\n",
        "plt.scatter(X[:,0],y, alpha = 0.4)\r\n",
        "plt.scatter(X[:,1],y, alpha = 0.4, color = 'red')\r\n",
        "graph(my_formula, range(-4,5))\r\n",
        "plt.xlabel('X')\r\n",
        "plt.ylabel('Y')\r\n",
        "plt.show()"
      ],
      "execution_count": 534,
      "outputs": [
        {
          "output_type": "display_data",
          "data": {
            "image/png": "[encoded data removed]",
            "text/plain": [
              "<Figure size 432x288 with 1 Axes>"
            ]
          },
          "metadata": {
            "tags": [],
            "needs_background": "light"
          }
        }
      ]
    }
  ]
}