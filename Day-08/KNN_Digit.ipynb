{
  "nbformat": 4,
  "nbformat_minor": 0,
  "metadata": {
    "colab": {
      "name": "KNN-Digit.ipynb",
      "provenance": [],
      "collapsed_sections": []
    },
    "kernelspec": {
      "name": "python3",
      "display_name": "Python 3"
    }
  },
  "cells": [
    {
      "cell_type": "code",
      "metadata": {
        "id": "Vq25F6JCA4gz"
      },
      "source": [
        "import numpy as np\r\n",
        "import pandas as pd\r\n",
        "import matplotlib.pyplot as plt\r\n",
        "import seaborn as sns\r\n",
        "from sklearn.datasets import load_digits"
      ],
      "execution_count": 24,
      "outputs": []
    },
    {
      "cell_type": "code",
      "metadata": {
        "id": "EMD_dghzHddD"
      },
      "source": [
        "data = load_digits()"
      ],
      "execution_count": 2,
      "outputs": []
    },
    {
      "cell_type": "code",
      "metadata": {
        "colab": {
          "base_uri": "https://localhost:8080/"
        },
        "id": "891nL4TVi6y9",
        "outputId": "a3a27977-9c3c-40dd-8faf-7803262a7e83"
      },
      "source": [
        "X = data.images\r\n",
        "X_test = data.images[1501:]\r\n",
        "y = data.target\r\n",
        "y_test = data.target[1501:]\r\n",
        "print(X.shape, y.shape)\r\n",
        "print(X_test.shape, y_test.shape)"
      ],
      "execution_count": 29,
      "outputs": [
        {
          "output_type": "stream",
          "text": [
            "(1797, 8, 8) (1797,)\n",
            "(296, 8, 8) (296,)\n"
          ],
          "name": "stdout"
        }
      ]
    },
    {
      "cell_type": "code",
      "metadata": {
        "id": "LVuhE7uCecf6"
      },
      "source": [
        "def distance(p1,p2):\r\n",
        "  return np.sqrt(np.sum((p1-p2)**2))"
      ],
      "execution_count": 4,
      "outputs": []
    },
    {
      "cell_type": "code",
      "metadata": {
        "id": "FatBHrpgfLjQ"
      },
      "source": [
        "def knn(X, Y, p, k):\r\n",
        "  m = X.shape[0]\r\n",
        "  p = p.reshape((64,))\r\n",
        "  val = []\r\n",
        "  for i in range(m):\r\n",
        "    xi = X[i]\r\n",
        "    xi = xi.reshape((64,))\r\n",
        "    dist = distance(p,xi)\r\n",
        "    val.append((dist,Y[i]))\r\n",
        "  val = sorted(val,key = lambda x:x[0])[:k]\r\n",
        "  val = np.asarray(val)\r\n",
        "  new_vals = np.unique(val[:,1],return_counts=True)\r\n",
        "  index = new_vals[1].argmax()\r\n",
        "  output = new_vals[0][index]\r\n",
        "  return output"
      ],
      "execution_count": 5,
      "outputs": []
    },
    {
      "cell_type": "code",
      "metadata": {
        "id": "ZHE3bmv3izMj"
      },
      "source": [
        "error = []\r\n",
        "for k in range(1,30):\r\n",
        "  predict = []\r\n",
        "  for i in range(X_test.shape[0]):\r\n",
        "    pred = knn(X,y,X_test[i],k)\r\n",
        "    predict.append(pred)\r\n",
        "  predict = np.array(predict)\r\n",
        "  err = ((predict != y_test).sum() / y_test.shape[0])\r\n",
        "  error.append(err)"
      ],
      "execution_count": 32,
      "outputs": []
    },
    {
      "cell_type": "code",
      "metadata": {
        "colab": {
          "base_uri": "https://localhost:8080/"
        },
        "id": "pw6YH0LwnZke",
        "outputId": "32f61e6f-aabc-4107-905b-99a6b27e5e63"
      },
      "source": [
        "error = [x/100 for x in accuracy]\r\n",
        "print(error)"
      ],
      "execution_count": 34,
      "outputs": [
        {
          "output_type": "stream",
          "text": [
            "[0.0, 0.008903728436282694, 0.00667779632721202, 0.007790762381747357, 0.009460211463550361, 0.01001669449081803, 0.009460211463550361, 0.010573177518085699, 0.011129660545353366, 0.014468558708959377, 0.012242626599888704, 0.012242626599888704, 0.01335559265442404, 0.013912075681691706, 0.014468558708959377, 0.015581524763494715, 0.016138007790762382, 0.01669449081803005, 0.016138007790762382, 0.017807456872565387, 0.018363939899833055, 0.018920422927100722, 0.02058987200890373, 0.02170283806343907, 0.02448525319977741, 0.02337228714524207, 0.02448525319977741, 0.02615470228158041, 0.027267668336115748]\n"
          ],
          "name": "stdout"
        }
      ]
    },
    {
      "cell_type": "code",
      "metadata": {
        "colab": {
          "base_uri": "https://localhost:8080/"
        },
        "id": "UeOrI40cfMhI",
        "outputId": "5cc05a00-9f3e-425c-85a0-4632e84831c6"
      },
      "source": [
        "predict = []\r\n",
        "for i in range(X_test.shape[0]):\r\n",
        "  pred = knn(X,y,X_test[i],5)\r\n",
        "  predict.append(pred)\r\n",
        "predict = np.array(predict)\r\n",
        "acc = ((predict == y_test).sum() / y_test.shape[0])*100\r\n",
        "print(acc)"
      ],
      "execution_count": 35,
      "outputs": [
        {
          "output_type": "stream",
          "text": [
            "98.64864864864865\n"
          ],
          "name": "stdout"
        }
      ]
    },
    {
      "cell_type": "code",
      "metadata": {
        "colab": {
          "base_uri": "https://localhost:8080/"
        },
        "id": "me58RR5-1Nkc",
        "outputId": "af34b601-9e15-4dfe-cda0-33183c13b93c"
      },
      "source": [
        "acc = ((predict == y_test).sum() / y_test.shape[0])*100\r\n",
        "print(acc)"
      ],
      "execution_count": 30,
      "outputs": [
        {
          "output_type": "stream",
          "text": [
            "98.64864864864865\n"
          ],
          "name": "stdout"
        }
      ]
    },
    {
      "cell_type": "code",
      "metadata": {
        "colab": {
          "base_uri": "https://localhost:8080/",
          "height": 295
        },
        "id": "eod0K5birfzx",
        "outputId": "3311ae03-dc6f-4520-d17d-a503a4a6b83c"
      },
      "source": [
        "plt.plot(range(1,30),error,marker='X',markerfacecolor='red',markersize=10)\r\n",
        "plt.title(\"Error vs K-Value\", size = 12)\r\n",
        "plt.xlabel(\"K\", size = 10)\r\n",
        "plt.ylabel(\"Error\",size = 10)\r\n",
        "plt.show()"
      ],
      "execution_count": 44,
      "outputs": [
        {
          "output_type": "display_data",
          "data": {
            "image/png": "[encoded data removed]",
            "text/plain": [
              "<Figure size 432x288 with 1 Axes>"
            ]
          },
          "metadata": {
            "tags": [],
            "needs_background": "light"
          }
        }
      ]
    },
    {
      "cell_type": "markdown",
      "metadata": {
        "id": "VTxv4vWbsWhU"
      },
      "source": [
        "#Sklearn"
      ]
    },
    {
      "cell_type": "code",
      "metadata": {
        "id": "zFQyIBttsY6Y"
      },
      "source": [
        "import numpy as np\r\n",
        "import pandas as pd\r\n",
        "import matplotlib.pyplot as plt\r\n",
        "import seaborn as sns\r\n",
        "from sklearn.datasets import load_digits"
      ],
      "execution_count": 6,
      "outputs": []
    },
    {
      "cell_type": "code",
      "metadata": {
        "id": "6kPQmuW1sfDN"
      },
      "source": [
        "data = load_digits()"
      ],
      "execution_count": 7,
      "outputs": []
    },
    {
      "cell_type": "code",
      "metadata": {
        "id": "whQ-Zfdxshng"
      },
      "source": [
        "from sklearn.model_selection import train_test_split\r\n",
        "X_train, X_test, y_train, y_test = train_test_split(X, y, test_size = 0.20)"
      ],
      "execution_count": 10,
      "outputs": []
    },
    {
      "cell_type": "code",
      "metadata": {
        "colab": {
          "base_uri": "https://localhost:8080/"
        },
        "id": "HKfWHoXDuEK-",
        "outputId": "c13e1303-b7a6-412b-cf03-f1a01ce518d0"
      },
      "source": [
        "print(X_train.shape, y_train.shape)\r\n",
        "print(X_test.shape, y_test.shape)\r\n",
        "n_examples, wX, hX = X_train.shape\r\n",
        "n_test, wx, hx = X_test.shape"
      ],
      "execution_count": 17,
      "outputs": [
        {
          "output_type": "stream",
          "text": [
            "(1437, 8, 8) (1437,)\n",
            "(360, 8, 8) (360,)\n"
          ],
          "name": "stdout"
        }
      ]
    },
    {
      "cell_type": "code",
      "metadata": {
        "id": "I_rx0fC3uQfD"
      },
      "source": [
        "X_train = X_train.reshape((n_examples,wX*hX))\r\n",
        "X_test = X_test.reshape((n_test,wx*hx))"
      ],
      "execution_count": 19,
      "outputs": []
    },
    {
      "cell_type": "code",
      "metadata": {
        "colab": {
          "base_uri": "https://localhost:8080/"
        },
        "id": "imiCRqcSsj5S",
        "outputId": "6c48d511-1398-410b-f788-ca1f47738d10"
      },
      "source": [
        "from sklearn.neighbors import KNeighborsClassifier\r\n",
        "classifier = KNeighborsClassifier(n_neighbors = 3,metric='minkowski',p=2)\r\n",
        "classifier.fit(X_train, y_train)"
      ],
      "execution_count": 21,
      "outputs": [
        {
          "output_type": "execute_result",
          "data": {
            "text/plain": [
              "KNeighborsClassifier(algorithm='auto', leaf_size=30, metric='minkowski',\n",
              "                     metric_params=None, n_jobs=None, n_neighbors=3, p=2,\n",
              "                     weights='uniform')"
            ]
          },
          "metadata": {
            "tags": []
          },
          "execution_count": 21
        }
      ]
    },
    {
      "cell_type": "code",
      "metadata": {
        "id": "tlTYSbQdtLaU"
      },
      "source": [
        "y_pred = classifier.predict(X_test)"
      ],
      "execution_count": 22,
      "outputs": []
    },
    {
      "cell_type": "code",
      "metadata": {
        "colab": {
          "base_uri": "https://localhost:8080/"
        },
        "id": "o6UCdSMPvcbW",
        "outputId": "3d41427b-095b-4a96-c710-37452e978a1e"
      },
      "source": [
        "from sklearn.metrics import classification_report, confusion_matrix, accuracy_score\r\n",
        "result = confusion_matrix(y_test, y_pred)\r\n",
        "print(\"Confusion Matrix:\")\r\n",
        "print(result)\r\n",
        "result1 = classification_report(y_test, y_pred)\r\n",
        "print(\"Classification Report:\",)\r\n",
        "print (result1)\r\n",
        "result2 = accuracy_score(y_test,y_pred)\r\n",
        "print(\"Accuracy:\",result2)"
      ],
      "execution_count": 23,
      "outputs": [
        {
          "output_type": "stream",
          "text": [
            "Confusion Matrix:\n",
            "[[42  0  0  0  0  0  0  0  0  0]\n",
            " [ 0 39  0  0  0  0  0  0  0  0]\n",
            " [ 0  0 35  0  0  0  0  1  0  0]\n",
            " [ 0  0  0 35  0  0  0  0  0  1]\n",
            " [ 0  0  0  0 36  0  0  0  0  0]\n",
            " [ 0  0  0  0  0 46  0  0  0  0]\n",
            " [ 0  0  0  0  0  0 30  0  0  0]\n",
            " [ 0  0  0  0  0  0  0 30  0  0]\n",
            " [ 0  1  0  0  0  0  0  0 32  1]\n",
            " [ 0  0  0  0  1  0  0  0  0 30]]\n",
            "Classification Report:\n",
            "              precision    recall  f1-score   support\n",
            "\n",
            "           0       1.00      1.00      1.00        42\n",
            "           1       0.97      1.00      0.99        39\n",
            "           2       1.00      0.97      0.99        36\n",
            "           3       1.00      0.97      0.99        36\n",
            "           4       0.97      1.00      0.99        36\n",
            "           5       1.00      1.00      1.00        46\n",
            "           6       1.00      1.00      1.00        30\n",
            "           7       0.97      1.00      0.98        30\n",
            "           8       1.00      0.94      0.97        34\n",
            "           9       0.94      0.97      0.95        31\n",
            "\n",
            "    accuracy                           0.99       360\n",
            "   macro avg       0.99      0.99      0.99       360\n",
            "weighted avg       0.99      0.99      0.99       360\n",
            "\n",
            "Accuracy: 0.9861111111111112\n"
          ],
          "name": "stdout"
        }
      ]
    }
  ]
}