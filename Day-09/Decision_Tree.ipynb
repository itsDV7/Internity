{
  "nbformat": 4,
  "nbformat_minor": 0,
  "metadata": {
    "colab": {
      "name": "Decision_Tree.ipynb",
      "provenance": [],
      "collapsed_sections": []
    },
    "kernelspec": {
      "name": "python3",
      "display_name": "Python 3"
    }
  },
  "cells": [
    {
      "cell_type": "markdown",
      "metadata": {
        "id": "n1qZK-41Q_kr"
      },
      "source": [
        "# Decision Tree\r\n",
        "\r\n",
        "- Supervised Learning Algorithm\r\n",
        "- Graphical Structure\r\n",
        "- Predictive Model - Reccursive and Greedy\r\n",
        "- Easy to Interpret\r\n",
        "\r\n"
      ]
    },
    {
      "cell_type": "code",
      "metadata": {
        "id": "E69bbw15nNT4"
      },
      "source": [
        "import numpy as np\r\n",
        "import pandas as pd\r\n",
        "import seaborn as sns\r\n",
        "from matplotlib import pyplot as plt"
      ],
      "execution_count": null,
      "outputs": []
    },
    {
      "cell_type": "code",
      "metadata": {
        "id": "xQcRJ2lTu5VG"
      },
      "source": [
        "df = pd.read_csv(\"/content/haberman.csv\", header=None)"
      ],
      "execution_count": null,
      "outputs": []
    },
    {
      "cell_type": "code",
      "metadata": {
        "id": "1xHnqPKYu-Jq"
      },
      "source": [
        "df.columns = ['Age','OP_year','Nodes','output']"
      ],
      "execution_count": null,
      "outputs": []
    },
    {
      "cell_type": "code",
      "metadata": {
        "colab": {
          "base_uri": "https://localhost:8080/"
        },
        "id": "FaqF_ZSvwS1Z",
        "outputId": "0d688b1b-bdfb-4d2d-a27c-99ab01e31176"
      },
      "source": [
        "df.info()"
      ],
      "execution_count": null,
      "outputs": [
        {
          "output_type": "stream",
          "text": [
            "<class 'pandas.core.frame.DataFrame'>\n",
            "RangeIndex: 306 entries, 0 to 305\n",
            "Data columns (total 4 columns):\n",
            " #   Column   Non-Null Count  Dtype\n",
            "---  ------   --------------  -----\n",
            " 0   Age      306 non-null    int64\n",
            " 1   OP_year  306 non-null    int64\n",
            " 2   Nodes    306 non-null    int64\n",
            " 3   output   306 non-null    int64\n",
            "dtypes: int64(4)\n",
            "memory usage: 9.7 KB\n"
          ],
          "name": "stdout"
        }
      ]
    },
    {
      "cell_type": "markdown",
      "metadata": {
        "id": "esDET8bjRcMU"
      },
      "source": [
        "# Entropy\r\n",
        "\r\n",
        "- Quantity of Randomness\r\n",
        "- 0 -> All True/False\r\n",
        "- 1 -> Equal True/False"
      ]
    },
    {
      "cell_type": "code",
      "metadata": {
        "id": "6tFTU2_exZ5Y"
      },
      "source": [
        "def entropy(col):\r\n",
        "  counts = np.unique(col,return_counts=True)\r\n",
        "  ent = 0.0\r\n",
        "  for ix in counts[1]:\r\n",
        "    p = ix/col.shape[0]\r\n",
        "    ent += (-1.0*p*np.log2(p))\r\n",
        "  return ent"
      ],
      "execution_count": null,
      "outputs": []
    },
    {
      "cell_type": "code",
      "metadata": {
        "id": "tGjd9H5Lx6wk"
      },
      "source": [
        "def divide_data(x_data,nkey,mval):\r\n",
        "  x_right = pd.DataFrame([],columns=x_data.columns)\r\n",
        "  x_left = pd.DataFrame([],columns=x_data.columns)\r\n",
        "  for ix in range(x_data.shape[0]):\r\n",
        "    val = x_data[nkey].loc[ix]\r\n",
        "    if val >= mval:\r\n",
        "      x_right = x_right.append(x_data.iloc[ix])\r\n",
        "    else:\r\n",
        "      x_left = x_left.append(x_data.iloc[ix])\r\n",
        "  return x_right,x_left"
      ],
      "execution_count": null,
      "outputs": []
    },
    {
      "cell_type": "code",
      "metadata": {
        "id": "wyH54w3EzNIV"
      },
      "source": [
        "def info_gain(x_data,nkey,mval):\r\n",
        "  right,left = divide_data(x_data,nkey,mval)\r\n",
        "\r\n",
        "  l = float(left.shape[0])/x_data.shape[0]\r\n",
        "  r = float(right.shape[0])/x_data.shape[0]\r\n",
        "\r\n",
        "  if left.shape[0]==0 or right.shape[0]==0:\r\n",
        "    return -1e5\r\n",
        "  i_gain = entropy(x_data.output) - (l * entropy(left.output) + r*entropy(right.output))\r\n",
        "  return i_gain"
      ],
      "execution_count": null,
      "outputs": []
    },
    {
      "cell_type": "code",
      "metadata": {
        "id": "hHj-kmt50yyU"
      },
      "source": [
        "class DecisionTree:\r\n",
        "  def __init__(self,depth=0,max_depth=5):\r\n",
        "    self.left = None\r\n",
        "    self.right = None\r\n",
        "    self.nkey = None\r\n",
        "    self.mval = None\r\n",
        "    self.depth = depth\r\n",
        "    self.max_depth = max_depth\r\n",
        "    self.target = None\r\n",
        "  def train(self,x_train):\r\n",
        "    features = ['Age','OP_year','Nodes']\r\n",
        "    info_gains = []\r\n",
        "    for ix in features:\r\n",
        "      i_gain = info_gain(x_train,ix,x_train[ix].mean())\r\n",
        "      info_gains.append(i_gain)\r\n",
        "    self.nkey = features[np.argmax(info_gains)]\r\n",
        "    self.mval = x_train[self.nkey].mean()\r\n",
        "    data_right,data_left = divide_data(x_train,self.nkey,self.mval)\r\n",
        "    data_right = data_right.reset_index(drop=True)\r\n",
        "    data_left = data_left.reset_index(drop=True)\r\n",
        "    if data_left.shape[0] == 0 or data_right.shape[0] == 0:\r\n",
        "      if x_train.output.mean() >= 0.5:\r\n",
        "        self.target = 1\r\n",
        "      else:\r\n",
        "        self.target = 2\r\n",
        "      return\r\n",
        "    if self.depth >= self.max_depth:\r\n",
        "      if x_train.output.mean() >= 0.5:  \r\n",
        "        self.target = 1\r\n",
        "      else:\r\n",
        "        self.target = 2\r\n",
        "      return\r\n",
        "    self.left = DecisionTree(self.depth+1,self.max_depth)\r\n",
        "    self.left.train(data_left)\r\n",
        "    self.right = DecisionTree(self.depth+1,self.max_depth)\r\n",
        "    self.right.train(data_right)\r\n",
        "    if x_train.output.mean() >= 0.5:  \r\n",
        "      self.target = 1\r\n",
        "    else:\r\n",
        "      self.target = 2\r\n",
        "    return\r\n",
        "  def predict(self,test):\r\n",
        "    if test[self.nkey] > self.mval:\r\n",
        "      if self.right is None:\r\n",
        "        return self.target\r\n",
        "      return self.right.predict(test)\r\n",
        "    if test[self.nkey] < self.mval:\r\n",
        "      if self.left is None:\r\n",
        "        return self.target\r\n",
        "      return self.left.predict(test)"
      ],
      "execution_count": null,
      "outputs": []
    },
    {
      "cell_type": "code",
      "metadata": {
        "id": "VssiGxtj8v9x"
      },
      "source": [
        "split = int(0.75*df.shape[0])\r\n",
        "train_data = df[:split]\r\n",
        "test_data = df[split:]\r\n",
        "test_data = test_data.reset_index(drop = True)"
      ],
      "execution_count": null,
      "outputs": []
    },
    {
      "cell_type": "code",
      "metadata": {
        "id": "70-vpCkw9Nv3"
      },
      "source": [
        "dt = DecisionTree()"
      ],
      "execution_count": null,
      "outputs": []
    },
    {
      "cell_type": "code",
      "metadata": {
        "id": "ji5-kUen9Zvn"
      },
      "source": [
        "dt.train(train_data)"
      ],
      "execution_count": null,
      "outputs": []
    },
    {
      "cell_type": "code",
      "metadata": {
        "id": "pWSPMNNa9qw1"
      },
      "source": [
        "y_pred = []\r\n",
        "for ix in range(test_data.shape[0]):\r\n",
        "  y_pred.append(dt.predict(test_data.loc[ix]))"
      ],
      "execution_count": null,
      "outputs": []
    },
    {
      "cell_type": "code",
      "metadata": {
        "colab": {
          "base_uri": "https://localhost:8080/"
        },
        "id": "GRCGmssK_LW_",
        "outputId": "93c5c876-5272-4e63-8f68-6e39633b43d3"
      },
      "source": [
        "print(\"Accuracy: \",np.mean(y_pred == test_data['output'])*100)"
      ],
      "execution_count": null,
      "outputs": [
        {
          "output_type": "stream",
          "text": [
            "Accuracy:  70.12987012987013\n"
          ],
          "name": "stdout"
        }
      ]
    },
    {
      "cell_type": "code",
      "metadata": {
        "colab": {
          "base_uri": "https://localhost:8080/",
          "height": 35
        },
        "id": "Nd1fPI_yCi0r",
        "outputId": "c0740781-177c-4547-afa4-122d161d4c3e"
      },
      "source": [
        "dt.nkey"
      ],
      "execution_count": null,
      "outputs": [
        {
          "output_type": "execute_result",
          "data": {
            "application/vnd.google.colaboratory.intrinsic+json": {
              "type": "string"
            },
            "text/plain": [
              "'Nodes'"
            ]
          },
          "metadata": {
            "tags": []
          },
          "execution_count": 165
        }
      ]
    },
    {
      "cell_type": "code",
      "metadata": {
        "colab": {
          "base_uri": "https://localhost:8080/",
          "height": 35
        },
        "id": "-UF_iKReFizn",
        "outputId": "37f13a36-21e1-488f-ccc5-690127b3be59"
      },
      "source": [
        "dt.right.nkey"
      ],
      "execution_count": null,
      "outputs": [
        {
          "output_type": "execute_result",
          "data": {
            "application/vnd.google.colaboratory.intrinsic+json": {
              "type": "string"
            },
            "text/plain": [
              "'Age'"
            ]
          },
          "metadata": {
            "tags": []
          },
          "execution_count": 166
        }
      ]
    },
    {
      "cell_type": "code",
      "metadata": {
        "colab": {
          "base_uri": "https://localhost:8080/",
          "height": 35
        },
        "id": "tU6bzZi-Fm5J",
        "outputId": "d60f9cd6-15d1-4c44-a039-ec58f37a6264"
      },
      "source": [
        "dt.left.nkey"
      ],
      "execution_count": null,
      "outputs": [
        {
          "output_type": "execute_result",
          "data": {
            "application/vnd.google.colaboratory.intrinsic+json": {
              "type": "string"
            },
            "text/plain": [
              "'OP_year'"
            ]
          },
          "metadata": {
            "tags": []
          },
          "execution_count": 167
        }
      ]
    }
  ]
}