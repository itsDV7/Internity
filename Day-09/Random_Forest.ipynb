{
  "nbformat": 4,
  "nbformat_minor": 0,
  "metadata": {
    "colab": {
      "name": "Random Forest.ipynb",
      "provenance": []
    },
    "kernelspec": {
      "name": "python3",
      "display_name": "Python 3"
    }
  },
  "cells": [
    {
      "cell_type": "markdown",
      "metadata": {
        "id": "XDYu3A0dU8k7"
      },
      "source": [
        "# Random Forest\r\n",
        "\r\n",
        "- Multiple Decision Trees\r\n",
        "- Random Sub-Sampling of features\r\n",
        "- Bootstrapping\r\n",
        "- Averaging the results\r\n",
        "- Reduces Variance by training on diferent sample data\r\n",
        "- Limit overfitting without increasing bias"
      ]
    },
    {
      "cell_type": "code",
      "metadata": {
        "id": "E69bbw15nNT4"
      },
      "source": [
        "import numpy as np\r\n",
        "import pandas as pd\r\n",
        "import seaborn as sns\r\n",
        "from matplotlib import pyplot as plt"
      ],
      "execution_count": 1,
      "outputs": []
    },
    {
      "cell_type": "code",
      "metadata": {
        "id": "xQcRJ2lTu5VG"
      },
      "source": [
        "df = pd.read_csv(\"/content/haberman.csv\", header=None)"
      ],
      "execution_count": 2,
      "outputs": []
    },
    {
      "cell_type": "code",
      "metadata": {
        "id": "1xHnqPKYu-Jq"
      },
      "source": [
        "df.columns = ['Age','OP_year','Nodes','output']"
      ],
      "execution_count": 3,
      "outputs": []
    },
    {
      "cell_type": "code",
      "metadata": {
        "colab": {
          "base_uri": "https://localhost:8080/"
        },
        "id": "FaqF_ZSvwS1Z",
        "outputId": "9b3de0cb-3bab-49cf-c5d8-4435fff2c16e"
      },
      "source": [
        "df.info()"
      ],
      "execution_count": 4,
      "outputs": [
        {
          "output_type": "stream",
          "text": [
            "<class 'pandas.core.frame.DataFrame'>\n",
            "RangeIndex: 306 entries, 0 to 305\n",
            "Data columns (total 4 columns):\n",
            " #   Column   Non-Null Count  Dtype\n",
            "---  ------   --------------  -----\n",
            " 0   Age      306 non-null    int64\n",
            " 1   OP_year  306 non-null    int64\n",
            " 2   Nodes    306 non-null    int64\n",
            " 3   output   306 non-null    int64\n",
            "dtypes: int64(4)\n",
            "memory usage: 9.7 KB\n"
          ],
          "name": "stdout"
        }
      ]
    },
    {
      "cell_type": "code",
      "metadata": {
        "id": "6tFTU2_exZ5Y"
      },
      "source": [
        "def entropy(col):\r\n",
        "  counts = np.unique(col,return_counts=True)\r\n",
        "  ent = 0.0\r\n",
        "  for ix in counts[1]:\r\n",
        "    p = ix/col.shape[0]\r\n",
        "    ent += (-1.0*p*np.log2(p))\r\n",
        "  return ent"
      ],
      "execution_count": 5,
      "outputs": []
    },
    {
      "cell_type": "code",
      "metadata": {
        "id": "tGjd9H5Lx6wk"
      },
      "source": [
        "def divide_data(x_data,nkey,mval):\r\n",
        "  x_right = pd.DataFrame([],columns=x_data.columns)\r\n",
        "  x_left = pd.DataFrame([],columns=x_data.columns)\r\n",
        "  for ix in range(x_data.shape[0]):\r\n",
        "    val = x_data[nkey].loc[ix]\r\n",
        "    if val >= mval:\r\n",
        "      x_right = x_right.append(x_data.iloc[ix])\r\n",
        "    else:\r\n",
        "      x_left = x_left.append(x_data.iloc[ix])\r\n",
        "  return x_right,x_left"
      ],
      "execution_count": 6,
      "outputs": []
    },
    {
      "cell_type": "code",
      "metadata": {
        "id": "wyH54w3EzNIV"
      },
      "source": [
        "def info_gain(x_data,nkey,mval):\r\n",
        "  right,left = divide_data(x_data,nkey,mval)\r\n",
        "\r\n",
        "  l = float(left.shape[0])/x_data.shape[0]\r\n",
        "  r = float(right.shape[0])/x_data.shape[0]\r\n",
        "\r\n",
        "  if left.shape[0]==0 or right.shape[0]==0:\r\n",
        "    return -1e5\r\n",
        "  i_gain = entropy(x_data.output) - (l * entropy(left.output) + r*entropy(right.output))\r\n",
        "  return i_gain"
      ],
      "execution_count": 7,
      "outputs": []
    },
    {
      "cell_type": "code",
      "metadata": {
        "id": "ySbyB8Be1HjI"
      },
      "source": [
        "class DecisionTree:\r\n",
        "    \r\n",
        "    def __init__(self,depth=0,max_depth=5,n_feat=None):\r\n",
        "        self.left = None\r\n",
        "        self.right = None\r\n",
        "        self.nkey = None\r\n",
        "        self.mval = None\r\n",
        "        self.max_depth = max_depth\r\n",
        "        self.depth = depth\r\n",
        "        self.target = None\r\n",
        "        self.n_feat = n_feat\r\n",
        "    \r\n",
        "    def train(self,X_train):\r\n",
        "        features = ['Age','OP_year','Nodes']\r\n",
        "        info_gains = []\r\n",
        "        for i in features:\r\n",
        "            i_gain = info_gain(X_train,i,X_train[i].mean())\r\n",
        "            info_gains.append(i_gain)\r\n",
        "        self.nkey = features[np.argmax(info_gains)]\r\n",
        "        self.mval = X_train[self.nkey].mean()\r\n",
        "        data_left,data_right = divide_data(X_train,self.nkey,self.mval)\r\n",
        "        data_left = data_left.reset_index(drop=True)\r\n",
        "        data_right = data_right.reset_index(drop=True)\r\n",
        "        if data_left.shape[0] == 0 or data_right.shape[0] ==0 :\r\n",
        "            if X_train.output.mean() >=0.5:\r\n",
        "                self.target = 1\r\n",
        "            else:\r\n",
        "                self.target = 2\r\n",
        "            return\r\n",
        "        if self.depth >= self.max_depth:\r\n",
        "            if X_train.output.mean() >=0.5:\r\n",
        "                self.target = 1\r\n",
        "            else:\r\n",
        "                self.target = 2\r\n",
        "            return\r\n",
        "        self.left = DecisionTree(depth=self.depth+1,max_depth=self.max_depth)\r\n",
        "        self.left.train(data_left)\r\n",
        "        \r\n",
        "        self.right = DecisionTree(depth=self.depth+1,max_depth=self.max_depth)\r\n",
        "        self.right.train(data_right)\r\n",
        "        if X_train.output.mean() >=0.5:\r\n",
        "            self.target = 1\r\n",
        "        else:\r\n",
        "            self.target = 2\r\n",
        "        return\r\n",
        "    \r\n",
        "    def predict(self,test):\r\n",
        "        if test[self.nkey]>self.mval:\r\n",
        "            if self.right is None:\r\n",
        "                return self.target\r\n",
        "            return self.right.predict(test)\r\n",
        "        else:\r\n",
        "            if self.left is None:\r\n",
        "                return self.target\r\n",
        "            return self.left.predict(test)"
      ],
      "execution_count": 68,
      "outputs": []
    },
    {
      "cell_type": "code",
      "metadata": {
        "id": "NPcOBbD_1aI6"
      },
      "source": [
        "class RandomForest:\r\n",
        "    def __init__(self,n_trees=5,n_bootstrap=100,max_depth=5,n_feat=None):\r\n",
        "        self.n_trees = n_trees\r\n",
        "        self.max_depth = max_depth\r\n",
        "        self.forest = []\r\n",
        "        self.n_bootstrap=n_bootstrap\r\n",
        "        self.n_feat = n_feat\r\n",
        "\r\n",
        "    def bootstraping(X,n_bootstrap):\r\n",
        "      index = np.random.randint(low=0, high=len(X), size=n_bootstrap)\r\n",
        "      data = X.iloc[index]\r\n",
        "      data = data.reset_index(drop=True)\r\n",
        "      return data\r\n",
        "        \r\n",
        "    def trainrf(self,X):\r\n",
        "        self.forest = []\r\n",
        "        for i in range(self.n_trees):\r\n",
        "            tree = DecisionTree(max_depth=self.max_depth,n_feat=self.n_feat)\r\n",
        "            x = bootstraping(X,n_bootstrap=self.n_bootstrap)\r\n",
        "            tree.train(x)\r\n",
        "            self.forest.append(tree)\r\n",
        "\r\n",
        "    def predict(self,X):\r\n",
        "        tree_predicted = np.array([tree.predict(X) for tree in self.forest])\r\n",
        "        return tree_predicted"
      ],
      "execution_count": 88,
      "outputs": []
    },
    {
      "cell_type": "code",
      "metadata": {
        "id": "VssiGxtj8v9x"
      },
      "source": [
        "split = int(0.75*df.shape[0])\r\n",
        "train_data = df[:split]\r\n",
        "test_data = df[split:]\r\n",
        "test_data = test_data.reset_index(drop = True)"
      ],
      "execution_count": 60,
      "outputs": []
    },
    {
      "cell_type": "code",
      "metadata": {
        "id": "r86VKN_O2fEz"
      },
      "source": [
        "rf = RandomForest()"
      ],
      "execution_count": 89,
      "outputs": []
    },
    {
      "cell_type": "code",
      "metadata": {
        "id": "xz2kewjK3IAJ"
      },
      "source": [
        "rf.trainrf(train_data)"
      ],
      "execution_count": 90,
      "outputs": []
    },
    {
      "cell_type": "code",
      "metadata": {
        "id": "DCQc67wO3_A8"
      },
      "source": [
        "y_pred = []\r\n",
        "for ix in range(test_data.shape[0]):\r\n",
        "  y_pred.append(np.bincount(np.array(rf.predict(test_data.loc[ix]))).argmax())"
      ],
      "execution_count": 100,
      "outputs": []
    },
    {
      "cell_type": "code",
      "metadata": {
        "colab": {
          "base_uri": "https://localhost:8080/"
        },
        "id": "YsxzLiCR3_BB",
        "outputId": "5889299d-67e6-4c35-9002-43e1de780da2"
      },
      "source": [
        "print(\"Accuracy: \",np.mean(y_pred == test_data['output'])*100)"
      ],
      "execution_count": 102,
      "outputs": [
        {
          "output_type": "stream",
          "text": [
            "Accuracy:  71.42857142857143\n"
          ],
          "name": "stdout"
        }
      ]
    }
  ]
}