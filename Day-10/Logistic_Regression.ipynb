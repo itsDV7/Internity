{
  "nbformat": 4,
  "nbformat_minor": 0,
  "metadata": {
    "colab": {
      "name": "Logistic_Regression.ipynb",
      "provenance": []
    },
    "kernelspec": {
      "name": "python3",
      "display_name": "Python 3"
    }
  },
  "cells": [
    {
      "cell_type": "markdown",
      "metadata": {
        "id": "kkNvDX25iOqd"
      },
      "source": [
        "# Logistic Regression\r\n",
        "\r\n",
        "- Model the probability of certain event\r\n",
        "- Binary Classification\r\n",
        "- Uses Sigmoid Function: An activation function with a threshold\r\n"
      ]
    },
    {
      "cell_type": "code",
      "metadata": {
        "id": "1arqbGvrUSHa"
      },
      "source": [
        "import numpy as np\r\n",
        "import matplotlib.pyplot as plt\r\n",
        "import seaborn as sns\r\n",
        "from sklearn import datasets\r\n",
        "from sklearn import linear_model"
      ],
      "execution_count": null,
      "outputs": []
    },
    {
      "cell_type": "code",
      "metadata": {
        "colab": {
          "base_uri": "https://localhost:8080/"
        },
        "id": "4jhn1Y2zW31-",
        "outputId": "ac2df7ab-5f8d-48c0-95d0-a3d762de1f3a"
      },
      "source": [
        "iris = datasets.load_iris()\r\n",
        "iris.data[:10]"
      ],
      "execution_count": null,
      "outputs": [
        {
          "output_type": "execute_result",
          "data": {
            "text/plain": [
              "array([[5.1, 3.5, 1.4, 0.2],\n",
              "       [4.9, 3. , 1.4, 0.2],\n",
              "       [4.7, 3.2, 1.3, 0.2],\n",
              "       [4.6, 3.1, 1.5, 0.2],\n",
              "       [5. , 3.6, 1.4, 0.2],\n",
              "       [5.4, 3.9, 1.7, 0.4],\n",
              "       [4.6, 3.4, 1.4, 0.3],\n",
              "       [5. , 3.4, 1.5, 0.2],\n",
              "       [4.4, 2.9, 1.4, 0.2],\n",
              "       [4.9, 3.1, 1.5, 0.1]])"
            ]
          },
          "metadata": {
            "tags": []
          },
          "execution_count": 122
        }
      ]
    },
    {
      "cell_type": "code",
      "metadata": {
        "colab": {
          "base_uri": "https://localhost:8080/"
        },
        "id": "DWVXuqarXOqb",
        "outputId": "be8ef4d8-2558-41ed-fe53-e47446e1a849"
      },
      "source": [
        "iris.feature_names"
      ],
      "execution_count": null,
      "outputs": [
        {
          "output_type": "execute_result",
          "data": {
            "text/plain": [
              "['sepal length (cm)',\n",
              " 'sepal width (cm)',\n",
              " 'petal length (cm)',\n",
              " 'petal width (cm)']"
            ]
          },
          "metadata": {
            "tags": []
          },
          "execution_count": 121
        }
      ]
    },
    {
      "cell_type": "code",
      "metadata": {
        "colab": {
          "base_uri": "https://localhost:8080/"
        },
        "id": "u3CD5nSEXpd5",
        "outputId": "32e45265-1982-4606-f44e-798d89d05b8e"
      },
      "source": [
        "iris.target_names"
      ],
      "execution_count": null,
      "outputs": [
        {
          "output_type": "execute_result",
          "data": {
            "text/plain": [
              "array(['setosa', 'versicolor', 'virginica'], dtype='<U10')"
            ]
          },
          "metadata": {
            "tags": []
          },
          "execution_count": 123
        }
      ]
    },
    {
      "cell_type": "code",
      "metadata": {
        "id": "_e_sTTBeW48l"
      },
      "source": [
        "X = iris.data[:, 0]\r\n",
        "y_org = iris.target!=2\r\n",
        "y = iris.target[y_org]\r\n",
        "X = X[y_org]"
      ],
      "execution_count": null,
      "outputs": []
    },
    {
      "cell_type": "code",
      "metadata": {
        "colab": {
          "base_uri": "https://localhost:8080/",
          "height": 279
        },
        "id": "rOw_TE7cW9qs",
        "outputId": "b616c5d3-2549-4dfe-9955-807e71af6c38"
      },
      "source": [
        "plt.scatter(X, y)\r\n",
        "plt.xlabel('Sepal Length ', fontsize=10)\r\n",
        "plt.ylabel('0 - setosa, 1 - versicolor ', fontsize=10)\r\n",
        "plt.show()"
      ],
      "execution_count": null,
      "outputs": [
        {
          "output_type": "display_data",
          "data": {
            "image/png": "[encoded data removed]",
            "text/plain": [
              "<Figure size 432x288 with 1 Axes>"
            ]
          },
          "metadata": {
            "tags": [],
            "needs_background": "light"
          }
        }
      ]
    },
    {
      "cell_type": "code",
      "metadata": {
        "id": "Ges1jFdzXyoC"
      },
      "source": [
        "X = np.c_[np.ones((X.shape[0],1)), X[:]]\r\n",
        "y = y.reshape(-1,1)\r\n",
        "alpha = 0.1\r\n",
        "m = y.size\r\n",
        "np.random.seed(10)\r\n",
        "theta = np.random.rand(2)\r\n",
        "theta = theta.reshape(-1,1)"
      ],
      "execution_count": null,
      "outputs": []
    },
    {
      "cell_type": "code",
      "metadata": {
        "id": "Ktrw-86NX2Jb"
      },
      "source": [
        "def gradient_descent(x, y, m, theta,  alpha):\r\n",
        "    cost_list = []\r\n",
        "    theta_list = []\r\n",
        "    prediction_list = []\r\n",
        "    run = True\r\n",
        "    cost_list.append(1e10)\r\n",
        "    i=0\r\n",
        "    while run:\r\n",
        "        \r\n",
        "        # Hypo\r\n",
        "        Z = np.dot(x, theta)\r\n",
        "        \r\n",
        "        # Sigmoid \r\n",
        "        prediction = 1 / (1 + np.exp(-Z))\r\n",
        "        prediction_list.append(prediction)\r\n",
        "        \r\n",
        "        # Cost\r\n",
        "        error = prediction - y\r\n",
        "        cost = np.sum(-(y * np.log(prediction) + (1 - y) * np.log(1 - prediction))) / m\r\n",
        "        cost_list.append(cost)\r\n",
        "        \r\n",
        "        #Gradient\r\n",
        "        theta = theta - (alpha * (1/m) * np.dot(x.T, error))\r\n",
        "        theta_list.append(theta)\r\n",
        "        if cost_list[i]-cost_list[i+1] < 1e-5:\r\n",
        "            run = False\r\n",
        "        if i>=500:\r\n",
        "            run = False\r\n",
        "        i+=1\r\n",
        "    cost_list.pop(0)\r\n",
        "    return prediction_list, cost_list, theta_list"
      ],
      "execution_count": null,
      "outputs": []
    },
    {
      "cell_type": "code",
      "metadata": {
        "id": "o5pn4nDxX4x6"
      },
      "source": [
        "prediction_list, cost_list, theta_list = gradient_descent(X, y, m, theta, alpha)\r\n",
        "theta = theta_list[-1]"
      ],
      "execution_count": null,
      "outputs": []
    },
    {
      "cell_type": "code",
      "metadata": {
        "colab": {
          "base_uri": "https://localhost:8080/",
          "height": 317
        },
        "id": "tWm76yQEX6gR",
        "outputId": "780282ea-db11-40a0-ffec-f176d0cabb83"
      },
      "source": [
        "plt.title('Cost', size = 30)\r\n",
        "plt.xlabel('Iter', size=20)\r\n",
        "plt.ylabel('Cost', size=20)\r\n",
        "plt.plot(cost_list)\r\n",
        "plt.show()"
      ],
      "execution_count": null,
      "outputs": [
        {
          "output_type": "display_data",
          "data": {
            "image/png": "[encoded data removed]",
            "text/plain": [
              "<Figure size 432x288 with 1 Axes>"
            ]
          },
          "metadata": {
            "tags": [],
            "needs_background": "light"
          }
        }
      ]
    },
    {
      "cell_type": "code",
      "metadata": {
        "colab": {
          "base_uri": "https://localhost:8080/"
        },
        "id": "VFlAoBGgX9DI",
        "outputId": "819fa619-f1d3-4a80-b697-9fdf5b931e43"
      },
      "source": [
        "theta"
      ],
      "execution_count": null,
      "outputs": [
        {
          "output_type": "execute_result",
          "data": {
            "text/plain": [
              "array([[-27.53475787],\n",
              "       [  5.08546084]])"
            ]
          },
          "metadata": {
            "tags": []
          },
          "execution_count": 131
        }
      ]
    },
    {
      "cell_type": "code",
      "metadata": {
        "id": "5mr_FuPKX_TN"
      },
      "source": [
        "for i in range(prediction_list[-1].shape[0]):\r\n",
        "  if prediction_list[-1][i]<0.5:\r\n",
        "    prediction_list[-1][i]=0\r\n",
        "  else:\r\n",
        "    prediction_list[-1][i]=1"
      ],
      "execution_count": null,
      "outputs": []
    },
    {
      "cell_type": "code",
      "metadata": {
        "colab": {
          "base_uri": "https://localhost:8080/"
        },
        "id": "tBctlBTgckGL",
        "outputId": "39669a21-d6da-4b0f-e97b-ae5f322b3d5a"
      },
      "source": [
        "acc = ((prediction_list[-1] == y).sum() / y.shape[0])*100\r\n",
        "print(acc)"
      ],
      "execution_count": null,
      "outputs": [
        {
          "output_type": "stream",
          "text": [
            "89.0\n"
          ],
          "name": "stdout"
        }
      ]
    }
  ]
}