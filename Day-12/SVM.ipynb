{
  "nbformat": 4,
  "nbformat_minor": 0,
  "metadata": {
    "colab": {
      "name": "SVM.ipynb",
      "provenance": []
    },
    "kernelspec": {
      "name": "python3",
      "display_name": "Python 3"
    }
  },
  "cells": [
    {
      "cell_type": "code",
      "metadata": {
        "id": "aMZmpx7bue_H"
      },
      "source": [
        "import numpy as np\r\n",
        "import pandas as pd\r\n",
        "import matplotlib.pyplot as plt\r\n",
        "from sklearn.datasets import make_classification"
      ],
      "execution_count": 381,
      "outputs": []
    },
    {
      "cell_type": "code",
      "metadata": {
        "id": "KBCCCnX8xugG"
      },
      "source": [
        "X, Y = make_classification(n_classes=2,n_samples=500,n_clusters_per_class=1, random_state=6, n_features=2, n_informative=2, n_redundant=0)\r\n",
        "Y[Y==0] = -1"
      ],
      "execution_count": 382,
      "outputs": []
    },
    {
      "cell_type": "code",
      "metadata": {
        "colab": {
          "base_uri": "https://localhost:8080/"
        },
        "id": "NEArgjx39GOy",
        "outputId": "55d68986-19f8-445e-e566-063b8bf931df"
      },
      "source": [
        "X[:5]"
      ],
      "execution_count": 383,
      "outputs": [
        {
          "output_type": "execute_result",
          "data": {
            "text/plain": [
              "array([[-1.12639076, -0.93926452],\n",
              "       [ 0.67897356,  1.22053778],\n",
              "       [-0.82025169, -0.92639606],\n",
              "       [ 0.1781684 ,  1.3735407 ],\n",
              "       [ 0.65532086,  1.19919068]])"
            ]
          },
          "metadata": {
            "tags": []
          },
          "execution_count": 383
        }
      ]
    },
    {
      "cell_type": "code",
      "metadata": {
        "colab": {
          "base_uri": "https://localhost:8080/"
        },
        "id": "12N1rg5Y9K-z",
        "outputId": "7f508402-d4dc-4607-be24-9cbab56972f9"
      },
      "source": [
        "Y[:5]"
      ],
      "execution_count": 384,
      "outputs": [
        {
          "output_type": "execute_result",
          "data": {
            "text/plain": [
              "array([-1,  1, -1,  1,  1])"
            ]
          },
          "metadata": {
            "tags": []
          },
          "execution_count": 384
        }
      ]
    },
    {
      "cell_type": "code",
      "metadata": {
        "colab": {
          "base_uri": "https://localhost:8080/",
          "height": 282
        },
        "id": "M2cm2WLGyQMB",
        "outputId": "d46840d0-0a7f-4f5e-8758-09f615ed462f"
      },
      "source": [
        "plt.scatter(X[:,0],X[:,1],c=Y)"
      ],
      "execution_count": 385,
      "outputs": [
        {
          "output_type": "execute_result",
          "data": {
            "text/plain": [
              "<matplotlib.collections.PathCollection at 0x7f1423b26c88>"
            ]
          },
          "metadata": {
            "tags": []
          },
          "execution_count": 385
        },
        {
          "output_type": "display_data",
          "data": {
            "image/png": "[encoded data removed]",
            "text/plain": [
              "<Figure size 432x288 with 1 Axes>"
            ]
          },
          "metadata": {
            "tags": [],
            "needs_background": "light"
          }
        }
      ]
    },
    {
      "cell_type": "code",
      "metadata": {
        "id": "SkzWgMQ2ybw3"
      },
      "source": [
        "class SVM:\r\n",
        "  def __init__(self,C=1.0):\r\n",
        "    self.C = C\r\n",
        "    self.W = 0\r\n",
        "    self.b = 0\r\n",
        "  def cost(self,W,b,X,Y):\r\n",
        "    loss = 0.0\r\n",
        "    loss += .5*np.dot(W,W.T)\r\n",
        "    for i in range(X.shape[0]):\r\n",
        "      ti = Y[i] * (np.dot(W,X[i].T)+b)\r\n",
        "      loss += self.C * max(0,1-ti)\r\n",
        "    return loss[0][0]\r\n",
        "  def fit(self,X,Y,batch_size=10,lr=0.001,iters=1000):\r\n",
        "    no_features = X.shape[1]\r\n",
        "    no_samples = X.shape[0]\r\n",
        "    n = lr\r\n",
        "    c = self.C\r\n",
        "    ids = np.arange(no_samples)\r\n",
        "    np.random.shuffle(ids)\r\n",
        "    W = np.zeros((1,no_features))\r\n",
        "    bias = 0\r\n",
        "    losses = []\r\n",
        "    for i in range(iters):\r\n",
        "      l = self.cost(W,bias,X,Y)/batch_size\r\n",
        "      losses.append(l)\r\n",
        "      for batch_start in range(0,no_samples,batch_size):\r\n",
        "        gradw =  0\r\n",
        "        gradb = 0\r\n",
        "        for j in range(batch_start,batch_start+batch_size):\r\n",
        "          if j < no_samples:\r\n",
        "            x = ids[j]\r\n",
        "            ti = Y[x] * (np.dot(W,X[x].T)+bias)\r\n",
        "            if ti > 1:\r\n",
        "              gradw += 0\r\n",
        "              gradb += 0\r\n",
        "            else:\r\n",
        "              gradw += (c*Y[x]*X[x])\r\n",
        "              gradb += (c*Y[x])\r\n",
        "        W = W - n*W + n*gradw\r\n",
        "        bias = bias + n*gradb\r\n",
        "    self.W = W\r\n",
        "    self.b = bias\r\n",
        "    return self.W, self.b, losses"
      ],
      "execution_count": 386,
      "outputs": []
    },
    {
      "cell_type": "code",
      "metadata": {
        "id": "9HIVZQng14uz"
      },
      "source": [
        "svm = SVM()\r\n",
        "W,B,losses = svm.fit(X,Y)"
      ],
      "execution_count": 387,
      "outputs": []
    },
    {
      "cell_type": "code",
      "metadata": {
        "colab": {
          "base_uri": "https://localhost:8080/"
        },
        "id": "74IgIAQ4El4s",
        "outputId": "71c952e7-0e70-4ab2-dba1-f67e65ee767e"
      },
      "source": [
        "W"
      ],
      "execution_count": 388,
      "outputs": [
        {
          "output_type": "execute_result",
          "data": {
            "text/plain": [
              "array([[0.63370275, 0.92451823]])"
            ]
          },
          "metadata": {
            "tags": []
          },
          "execution_count": 388
        }
      ]
    },
    {
      "cell_type": "code",
      "metadata": {
        "colab": {
          "base_uri": "https://localhost:8080/"
        },
        "id": "KwkGgg-PEnSx",
        "outputId": "ebfc8346-49d2-4c5d-9ed2-f74683b87d58"
      },
      "source": [
        "B"
      ],
      "execution_count": 389,
      "outputs": [
        {
          "output_type": "execute_result",
          "data": {
            "text/plain": [
              "-0.34700000000000025"
            ]
          },
          "metadata": {
            "tags": []
          },
          "execution_count": 389
        }
      ]
    },
    {
      "cell_type": "code",
      "metadata": {
        "colab": {
          "base_uri": "https://localhost:8080/",
          "height": 282
        },
        "id": "LzVVGRwM2OhN",
        "outputId": "1cb49f0c-cece-41cb-865f-c2732cbce33f"
      },
      "source": [
        "x1 = np.linspace(-3,3,10)\r\n",
        "x2 = -(B + W[0][0]*x1)/W[0][1]\r\n",
        "plt.scatter(X[:,0],X[:,1],c=Y)\r\n",
        "plt.plot(x1,x2,c='red')"
      ],
      "execution_count": 390,
      "outputs": [
        {
          "output_type": "execute_result",
          "data": {
            "text/plain": [
              "[<matplotlib.lines.Line2D at 0x7f1423adae10>]"
            ]
          },
          "metadata": {
            "tags": []
          },
          "execution_count": 390
        },
        {
          "output_type": "display_data",
          "data": {
            "image/png": "[encoded data removed]",
            "text/plain": [
              "<Figure size 432x288 with 1 Axes>"
            ]
          },
          "metadata": {
            "tags": [],
            "needs_background": "light"
          }
        }
      ]
    },
    {
      "cell_type": "code",
      "metadata": {
        "colab": {
          "base_uri": "https://localhost:8080/",
          "height": 317
        },
        "id": "8ijEQ7oF3dxl",
        "outputId": "4b00d2d3-8168-4d63-be0a-009d1490fb35"
      },
      "source": [
        "plt.plot(losses)\r\n",
        "plt.title(\"Cost\",size=20)\r\n",
        "plt.xlabel('no. of iterations',size=10)\r\n",
        "plt.ylabel('cost',size=10)"
      ],
      "execution_count": 391,
      "outputs": [
        {
          "output_type": "execute_result",
          "data": {
            "text/plain": [
              "Text(0, 0.5, 'cost')"
            ]
          },
          "metadata": {
            "tags": []
          },
          "execution_count": 391
        },
        {
          "output_type": "display_data",
          "data": {
            "image/png": "[encoded data removed]",
            "text/plain": [
              "<Figure size 432x288 with 1 Axes>"
            ]
          },
          "metadata": {
            "tags": [],
            "needs_background": "light"
          }
        }
      ]
    },
    {
      "cell_type": "code",
      "metadata": {
        "id": "Zm4IizbU4ER9"
      },
      "source": [
        "def hypothesis(X, W, b):\r\n",
        "  z = b + W[0][0]*X[:,0] + W[0][1]*X[:,1]\r\n",
        "  y_pred = sigmoid(z)\r\n",
        "  return y_pred\r\n",
        "def sigmoid(z):\r\n",
        "  return 1.0/1+np.exp(-z)"
      ],
      "execution_count": 392,
      "outputs": []
    },
    {
      "cell_type": "code",
      "metadata": {
        "id": "KVRZeazR8kj4"
      },
      "source": [
        "y_pred = hypothesis(X,W,B)"
      ],
      "execution_count": 393,
      "outputs": []
    },
    {
      "cell_type": "code",
      "metadata": {
        "id": "jE5lOj558oel"
      },
      "source": [
        "for i in range(y_pred.shape[0]):\r\n",
        "  if y_pred[i] > 2.0:\r\n",
        "    y_pred[i] = -1\r\n",
        "  else:\r\n",
        "    y_pred[i] = 1"
      ],
      "execution_count": 394,
      "outputs": []
    },
    {
      "cell_type": "code",
      "metadata": {
        "colab": {
          "base_uri": "https://localhost:8080/"
        },
        "id": "W0PnEwPq89kZ",
        "outputId": "1081eefb-8377-4d42-aebb-34d597992457"
      },
      "source": [
        "for i in range(50):\r\n",
        "  print(\"Pred:\\t\",y_pred[i],\"\\tActual:\\t\",Y[i],\"\\tMatch:\\t\",Y[i]==y_pred[i])"
      ],
      "execution_count": 395,
      "outputs": [
        {
          "output_type": "stream",
          "text": [
            "Pred:\t -1.0 \tActual:\t -1 \tMatch:\t True\n",
            "Pred:\t 1.0 \tActual:\t 1 \tMatch:\t True\n",
            "Pred:\t -1.0 \tActual:\t -1 \tMatch:\t True\n",
            "Pred:\t 1.0 \tActual:\t 1 \tMatch:\t True\n",
            "Pred:\t 1.0 \tActual:\t 1 \tMatch:\t True\n",
            "Pred:\t 1.0 \tActual:\t 1 \tMatch:\t True\n",
            "Pred:\t 1.0 \tActual:\t 1 \tMatch:\t True\n",
            "Pred:\t -1.0 \tActual:\t -1 \tMatch:\t True\n",
            "Pred:\t -1.0 \tActual:\t -1 \tMatch:\t True\n",
            "Pred:\t 1.0 \tActual:\t 1 \tMatch:\t True\n",
            "Pred:\t -1.0 \tActual:\t -1 \tMatch:\t True\n",
            "Pred:\t -1.0 \tActual:\t -1 \tMatch:\t True\n",
            "Pred:\t -1.0 \tActual:\t -1 \tMatch:\t True\n",
            "Pred:\t 1.0 \tActual:\t 1 \tMatch:\t True\n",
            "Pred:\t -1.0 \tActual:\t -1 \tMatch:\t True\n",
            "Pred:\t 1.0 \tActual:\t -1 \tMatch:\t False\n",
            "Pred:\t -1.0 \tActual:\t -1 \tMatch:\t True\n",
            "Pred:\t 1.0 \tActual:\t 1 \tMatch:\t True\n",
            "Pred:\t -1.0 \tActual:\t -1 \tMatch:\t True\n",
            "Pred:\t -1.0 \tActual:\t -1 \tMatch:\t True\n",
            "Pred:\t 1.0 \tActual:\t 1 \tMatch:\t True\n",
            "Pred:\t 1.0 \tActual:\t -1 \tMatch:\t False\n",
            "Pred:\t 1.0 \tActual:\t 1 \tMatch:\t True\n",
            "Pred:\t 1.0 \tActual:\t 1 \tMatch:\t True\n",
            "Pred:\t 1.0 \tActual:\t -1 \tMatch:\t False\n",
            "Pred:\t 1.0 \tActual:\t 1 \tMatch:\t True\n",
            "Pred:\t 1.0 \tActual:\t 1 \tMatch:\t True\n",
            "Pred:\t 1.0 \tActual:\t 1 \tMatch:\t True\n",
            "Pred:\t 1.0 \tActual:\t 1 \tMatch:\t True\n",
            "Pred:\t 1.0 \tActual:\t 1 \tMatch:\t True\n",
            "Pred:\t 1.0 \tActual:\t 1 \tMatch:\t True\n",
            "Pred:\t 1.0 \tActual:\t 1 \tMatch:\t True\n",
            "Pred:\t -1.0 \tActual:\t -1 \tMatch:\t True\n",
            "Pred:\t 1.0 \tActual:\t 1 \tMatch:\t True\n",
            "Pred:\t -1.0 \tActual:\t -1 \tMatch:\t True\n",
            "Pred:\t 1.0 \tActual:\t 1 \tMatch:\t True\n",
            "Pred:\t -1.0 \tActual:\t -1 \tMatch:\t True\n",
            "Pred:\t 1.0 \tActual:\t 1 \tMatch:\t True\n",
            "Pred:\t -1.0 \tActual:\t -1 \tMatch:\t True\n",
            "Pred:\t -1.0 \tActual:\t -1 \tMatch:\t True\n",
            "Pred:\t 1.0 \tActual:\t -1 \tMatch:\t False\n",
            "Pred:\t -1.0 \tActual:\t -1 \tMatch:\t True\n",
            "Pred:\t -1.0 \tActual:\t -1 \tMatch:\t True\n",
            "Pred:\t 1.0 \tActual:\t 1 \tMatch:\t True\n",
            "Pred:\t 1.0 \tActual:\t 1 \tMatch:\t True\n",
            "Pred:\t 1.0 \tActual:\t 1 \tMatch:\t True\n",
            "Pred:\t 1.0 \tActual:\t 1 \tMatch:\t True\n",
            "Pred:\t 1.0 \tActual:\t -1 \tMatch:\t False\n",
            "Pred:\t 1.0 \tActual:\t 1 \tMatch:\t True\n",
            "Pred:\t 1.0 \tActual:\t 1 \tMatch:\t True\n"
          ],
          "name": "stdout"
        }
      ]
    },
    {
      "cell_type": "code",
      "metadata": {
        "colab": {
          "base_uri": "https://localhost:8080/"
        },
        "id": "4avfHg4a8wtT",
        "outputId": "0f6c0113-a43b-42c5-897b-ff4364396462"
      },
      "source": [
        "print(\"Accuracy:\", np.mean(Y==y_pred)*100,\"%\")"
      ],
      "execution_count": 396,
      "outputs": [
        {
          "output_type": "stream",
          "text": [
            "Accuracy: 96.39999999999999 %\n"
          ],
          "name": "stdout"
        }
      ]
    }
  ]
}