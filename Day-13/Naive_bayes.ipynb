{
  "nbformat": 4,
  "nbformat_minor": 0,
  "metadata": {
    "colab": {
      "name": "Naive_bayes.ipynb",
      "provenance": []
    },
    "kernelspec": {
      "name": "python3",
      "display_name": "Python 3"
    }
  },
  "cells": [
    {
      "cell_type": "markdown",
      "metadata": {
        "id": "y5pXUQLDbLXU"
      },
      "source": [
        "# Naive Bayes\r\n",
        "- Simple Probabilistic model for Classification\r\n",
        "- Bayes Theorem : P(h|d) = (P(d|h) * P(h)) / P(d)\r\n",
        "- P(h|d) is the probability of hypothesis h given the data d. This is called the posterior probability.\r\n",
        "- P(d|h) is the probability of data d given that the hypothesis h was true.\r\n",
        "- P(h) is the probability of hypothesis h being true (regardless of the data). This is called the prior probability of h.\r\n",
        "- P(d) is the probability of the data (regardless of the hypothesis).\r\n",
        "\r\n",
        "- It is called naive Bayes or idiot Bayes because the calculation of the probabilities for each hypothesis are simplified to make their calculation tractable\r\n",
        "\r\n",
        "- Rather than attempting to calculate the values of each attribute value P(d1, d2, d3|h), they are assumed to be conditionally independent given the target value and calculated as P(d1|h) * P(d2|H) and so on."
      ]
    },
    {
      "cell_type": "code",
      "metadata": {
        "id": "I7rmTuV7Wc5K"
      },
      "source": [
        "import numpy as np\r\n",
        "import pandas as pd"
      ],
      "execution_count": null,
      "outputs": []
    },
    {
      "cell_type": "code",
      "metadata": {
        "id": "El0mXCZrXyQe"
      },
      "source": [
        "class NaiveBayes:\r\n",
        "    def __init__(self, X, y):\r\n",
        "        self.no_examples, self.no_features = X.shape\r\n",
        "        self.no_classes = len(np.unique(y))\r\n",
        "        self.eps = 1e-6\r\n",
        "\r\n",
        "    def fit(self, X):\r\n",
        "        self.classes_mean = {}\r\n",
        "        self.classes_variance = {}\r\n",
        "        self.classes_prior = {}\r\n",
        "        for c in range(self.no_classes):\r\n",
        "            X_c = X[y == c]\r\n",
        "            self.classes_mean[str(c)] = np.mean(X_c, axis=0)\r\n",
        "            self.classes_variance[str(c)] = np.var(X_c, axis=0)\r\n",
        "            self.classes_prior[str(c)] = X_c.shape[0] / X.shape[0]\r\n",
        "\r\n",
        "    def predict(self, X):\r\n",
        "        probs = np.zeros((self.no_examples, self.no_classes))\r\n",
        "        for c in range(self.no_classes):\r\n",
        "            prior = self.classes_prior[str(c)]\r\n",
        "            probs_c = self.density_function(X, self.classes_mean[str(c)], self.classes_variance[str(c)])\r\n",
        "            probs[:, c] = probs_c + np.log(prior)\r\n",
        "        return np.argmax(probs, 1)\r\n",
        "\r\n",
        "    def density_function(self, x, mean, sigma):\r\n",
        "        const = -self.no_features / 2 * np.log(2 * np.pi) - 0.5 * np.sum(np.log(sigma + self.eps))\r\n",
        "        probs = 0.5 * np.sum(np.power(x - mean, 2) / (sigma + self.eps), 1)\r\n",
        "        return const - probs"
      ],
      "execution_count": null,
      "outputs": []
    },
    {
      "cell_type": "markdown",
      "metadata": {
        "id": "zqYa2cvZcV-g"
      },
      "source": [
        "# Probability Distribution Finction:\r\n",
        "![image.png](data:image/png;base64,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)\r\n",
        "\r\n",
        "- Multiplying 0-1 probability results in a really small number\r\n",
        "- Taking log converts the 0-1 probability to -inf to 0\r\n",
        "- Log also converts multiplication to addition\r\n",
        "- The resulting sums are usually manageable numbers."
      ]
    },
    {
      "cell_type": "code",
      "metadata": {
        "id": "yYpKl3KCX1JZ"
      },
      "source": [
        "X = np.loadtxt(\"/content/data.txt\", delimiter=\",\")\r\n",
        "y = np.loadtxt(\"/content/targets.txt\") - 1"
      ],
      "execution_count": null,
      "outputs": []
    },
    {
      "cell_type": "code",
      "metadata": {
        "colab": {
          "base_uri": "https://localhost:8080/"
        },
        "id": "KB6rSg6YipX9",
        "outputId": "261f9cfd-e722-4a78-8948-d47303604015"
      },
      "source": [
        "print(X.shape, y.shape)"
      ],
      "execution_count": null,
      "outputs": [
        {
          "output_type": "stream",
          "text": [
            "(90, 2) (90,)\n"
          ],
          "name": "stdout"
        }
      ]
    },
    {
      "cell_type": "code",
      "metadata": {
        "id": "UDynZLEZX4Ds"
      },
      "source": [
        "NB = NaiveBayes(X, y)\r\n",
        "NB.fit(X)"
      ],
      "execution_count": null,
      "outputs": []
    },
    {
      "cell_type": "code",
      "metadata": {
        "colab": {
          "base_uri": "https://localhost:8080/"
        },
        "id": "KK6TA8dpX7uk",
        "outputId": "bc2525cc-cc9b-4ea8-875a-014fbd6b825f"
      },
      "source": [
        "y_pred = NB.predict(X)\r\n",
        "print(f\"Accuracy: {(sum(y_pred==y)/X.shape[0])*100}\")"
      ],
      "execution_count": null,
      "outputs": [
        {
          "output_type": "stream",
          "text": [
            "Accuracy: 90.0\n"
          ],
          "name": "stdout"
        }
      ]
    }
  ]
}